{
 "cells": [
  {
   "cell_type": "markdown",
   "id": "23cb3fc4",
   "metadata": {
    "_cell_guid": "b1076dfc-b9ad-4769-8c92-a6c4dae69d19",
    "_uuid": "8f2839f25d086af736a60e9eeb907d3b93b6e0e5",
    "papermill": {
     "duration": 0.039012,
     "end_time": "2022-01-12T01:12:53.666279",
     "exception": false,
     "start_time": "2022-01-12T01:12:53.627267",
     "status": "completed"
    },
    "tags": []
   },
   "source": [
    "# Case Study: Expanding Candy brand¶\n"
   ]
  },
  {
   "cell_type": "markdown",
   "id": "ade8a739",
   "metadata": {
    "papermill": {
     "duration": 0.037424,
     "end_time": "2022-01-12T01:12:53.743991",
     "exception": false,
     "start_time": "2022-01-12T01:12:53.706567",
     "status": "completed"
    },
    "tags": []
   },
   "source": [
    "![candy_image](https://worldstrides.com/wp-content/uploads/2020/10/AdobeStock_170707235_main-min.jpg)"
   ]
  },
  {
   "cell_type": "markdown",
   "id": "bf24a1e3",
   "metadata": {
    "execution": {
     "iopub.execute_input": "2022-01-09T18:21:29.143937Z",
     "iopub.status.busy": "2022-01-09T18:21:29.143643Z",
     "iopub.status.idle": "2022-01-09T18:21:29.156801Z",
     "shell.execute_reply": "2022-01-09T18:21:29.155576Z",
     "shell.execute_reply.started": "2022-01-09T18:21:29.143907Z"
    },
    "papermill": {
     "duration": 0.037296,
     "end_time": "2022-01-12T01:12:53.820044",
     "exception": false,
     "start_time": "2022-01-12T01:12:53.782748",
     "status": "completed"
    },
    "tags": []
   },
   "source": [
    "## Context\n",
    "The Lidl purchasing group wants to expand their candy offering. These are store brand candies that we sell along the brand offerings. The idea is to create a brand-new product. The team is discussing various options now.\n",
    "Some prefer cookie-based sweets while others think that it should be gummies. The Divisional Director responsible for purchasing has decided to use a more data-driven approach. He contracted with a market research group to collect data on products in the market and their characteristics and customer sentiment.\n",
    "The Goal is to find out which product characteristics drive customer sentiment and subsequently make a recommendation on a new product."
   ]
  },
  {
   "cell_type": "markdown",
   "id": "dc8d9088",
   "metadata": {
    "papermill": {
     "duration": 0.037464,
     "end_time": "2022-01-12T01:12:53.898532",
     "exception": false,
     "start_time": "2022-01-12T01:12:53.861068",
     "status": "completed"
    },
    "tags": []
   },
   "source": [
    "## Data\n",
    "The data set is located (incl. a short description) here:\n",
    "https://github.com/fivethirtyeight/data/tree/master/candy-power-ranking\n",
    "\n",
    "The data set is provided by FiveThirtyEight under the Creative Commons Attribution 4.0 International license (https://creativecommons.org/licenses/by/4.0/)"
   ]
  },
  {
   "cell_type": "code",
   "execution_count": 1,
   "id": "7004e582",
   "metadata": {
    "execution": {
     "iopub.execute_input": "2022-01-12T01:12:53.981487Z",
     "iopub.status.busy": "2022-01-12T01:12:53.979684Z",
     "iopub.status.idle": "2022-01-12T01:12:56.875144Z",
     "shell.execute_reply": "2022-01-12T01:12:56.874308Z",
     "shell.execute_reply.started": "2022-01-12T00:00:31.750804Z"
    },
    "papermill": {
     "duration": 2.939024,
     "end_time": "2022-01-12T01:12:56.875307",
     "exception": false,
     "start_time": "2022-01-12T01:12:53.936283",
     "status": "completed"
    },
    "tags": []
   },
   "outputs": [],
   "source": [
    "# Import required modules\n",
    "import math\n",
    "import itertools\n",
    "import numpy as np\n",
    "import pandas as pd\n",
    "import seaborn as sns\n",
    "from collections import Counter\n",
    "import matplotlib.pyplot as plt\n",
    "plt.rcParams['font.family'] = \"serif\"\n",
    "from sklearn.cluster import KMeans\n",
    "from pandas_profiling import ProfileReport\n",
    "from sklearn.metrics import mean_squared_error\n",
    "from yellowbrick.cluster import KElbowVisualizer\n",
    "from sklearn.model_selection import GridSearchCV\n",
    "from sklearn.ensemble import RandomForestRegressor\n",
    "from sklearn.model_selection import train_test_split\n"
   ]
  },
  {
   "cell_type": "code",
   "execution_count": 2,
   "id": "c83fbb88",
   "metadata": {
    "execution": {
     "iopub.execute_input": "2022-01-12T01:12:56.955476Z",
     "iopub.status.busy": "2022-01-12T01:12:56.954504Z",
     "iopub.status.idle": "2022-01-12T01:12:57.014881Z",
     "shell.execute_reply": "2022-01-12T01:12:57.015387Z",
     "shell.execute_reply.started": "2022-01-12T00:00:34.971316Z"
    },
    "papermill": {
     "duration": 0.102526,
     "end_time": "2022-01-12T01:12:57.015560",
     "exception": false,
     "start_time": "2022-01-12T01:12:56.913034",
     "status": "completed"
    },
    "tags": []
   },
   "outputs": [
    {
     "data": {
      "text/html": [
       "<div>\n",
       "<style scoped>\n",
       "    .dataframe tbody tr th:only-of-type {\n",
       "        vertical-align: middle;\n",
       "    }\n",
       "\n",
       "    .dataframe tbody tr th {\n",
       "        vertical-align: top;\n",
       "    }\n",
       "\n",
       "    .dataframe thead th {\n",
       "        text-align: right;\n",
       "    }\n",
       "</style>\n",
       "<table border=\"1\" class=\"dataframe\">\n",
       "  <thead>\n",
       "    <tr style=\"text-align: right;\">\n",
       "      <th></th>\n",
       "      <th>0</th>\n",
       "      <th>1</th>\n",
       "      <th>2</th>\n",
       "      <th>3</th>\n",
       "      <th>4</th>\n",
       "      <th>5</th>\n",
       "      <th>6</th>\n",
       "      <th>7</th>\n",
       "      <th>8</th>\n",
       "      <th>9</th>\n",
       "      <th>...</th>\n",
       "      <th>75</th>\n",
       "      <th>76</th>\n",
       "      <th>77</th>\n",
       "      <th>78</th>\n",
       "      <th>79</th>\n",
       "      <th>80</th>\n",
       "      <th>81</th>\n",
       "      <th>82</th>\n",
       "      <th>83</th>\n",
       "      <th>84</th>\n",
       "    </tr>\n",
       "  </thead>\n",
       "  <tbody>\n",
       "    <tr>\n",
       "      <th>competitorname</th>\n",
       "      <td>100 Grand</td>\n",
       "      <td>3 Musketeers</td>\n",
       "      <td>One dime</td>\n",
       "      <td>One quarter</td>\n",
       "      <td>Air Heads</td>\n",
       "      <td>Almond Joy</td>\n",
       "      <td>Baby Ruth</td>\n",
       "      <td>Boston Baked Beans</td>\n",
       "      <td>Candy Corn</td>\n",
       "      <td>Caramel Apple Pops</td>\n",
       "      <td>...</td>\n",
       "      <td>Tootsie Roll Juniors</td>\n",
       "      <td>Tootsie Roll Midgies</td>\n",
       "      <td>Tootsie Roll Snack Bars</td>\n",
       "      <td>Trolli Sour Bites</td>\n",
       "      <td>Twix</td>\n",
       "      <td>Twizzlers</td>\n",
       "      <td>Warheads</td>\n",
       "      <td>WelchÕs Fruit Snacks</td>\n",
       "      <td>WertherÕs Original Caramel</td>\n",
       "      <td>Whoppers</td>\n",
       "    </tr>\n",
       "    <tr>\n",
       "      <th>chocolate</th>\n",
       "      <td>1</td>\n",
       "      <td>1</td>\n",
       "      <td>0</td>\n",
       "      <td>0</td>\n",
       "      <td>0</td>\n",
       "      <td>1</td>\n",
       "      <td>1</td>\n",
       "      <td>0</td>\n",
       "      <td>0</td>\n",
       "      <td>0</td>\n",
       "      <td>...</td>\n",
       "      <td>1</td>\n",
       "      <td>1</td>\n",
       "      <td>1</td>\n",
       "      <td>0</td>\n",
       "      <td>1</td>\n",
       "      <td>0</td>\n",
       "      <td>0</td>\n",
       "      <td>0</td>\n",
       "      <td>0</td>\n",
       "      <td>1</td>\n",
       "    </tr>\n",
       "    <tr>\n",
       "      <th>fruity</th>\n",
       "      <td>0</td>\n",
       "      <td>0</td>\n",
       "      <td>0</td>\n",
       "      <td>0</td>\n",
       "      <td>1</td>\n",
       "      <td>0</td>\n",
       "      <td>0</td>\n",
       "      <td>0</td>\n",
       "      <td>0</td>\n",
       "      <td>1</td>\n",
       "      <td>...</td>\n",
       "      <td>0</td>\n",
       "      <td>0</td>\n",
       "      <td>0</td>\n",
       "      <td>1</td>\n",
       "      <td>0</td>\n",
       "      <td>1</td>\n",
       "      <td>1</td>\n",
       "      <td>1</td>\n",
       "      <td>0</td>\n",
       "      <td>0</td>\n",
       "    </tr>\n",
       "    <tr>\n",
       "      <th>caramel</th>\n",
       "      <td>1</td>\n",
       "      <td>0</td>\n",
       "      <td>0</td>\n",
       "      <td>0</td>\n",
       "      <td>0</td>\n",
       "      <td>0</td>\n",
       "      <td>1</td>\n",
       "      <td>0</td>\n",
       "      <td>0</td>\n",
       "      <td>1</td>\n",
       "      <td>...</td>\n",
       "      <td>0</td>\n",
       "      <td>0</td>\n",
       "      <td>0</td>\n",
       "      <td>0</td>\n",
       "      <td>1</td>\n",
       "      <td>0</td>\n",
       "      <td>0</td>\n",
       "      <td>0</td>\n",
       "      <td>1</td>\n",
       "      <td>0</td>\n",
       "    </tr>\n",
       "    <tr>\n",
       "      <th>peanutyalmondy</th>\n",
       "      <td>0</td>\n",
       "      <td>0</td>\n",
       "      <td>0</td>\n",
       "      <td>0</td>\n",
       "      <td>0</td>\n",
       "      <td>1</td>\n",
       "      <td>1</td>\n",
       "      <td>1</td>\n",
       "      <td>0</td>\n",
       "      <td>0</td>\n",
       "      <td>...</td>\n",
       "      <td>0</td>\n",
       "      <td>0</td>\n",
       "      <td>0</td>\n",
       "      <td>0</td>\n",
       "      <td>0</td>\n",
       "      <td>0</td>\n",
       "      <td>0</td>\n",
       "      <td>0</td>\n",
       "      <td>0</td>\n",
       "      <td>0</td>\n",
       "    </tr>\n",
       "    <tr>\n",
       "      <th>nougat</th>\n",
       "      <td>0</td>\n",
       "      <td>1</td>\n",
       "      <td>0</td>\n",
       "      <td>0</td>\n",
       "      <td>0</td>\n",
       "      <td>0</td>\n",
       "      <td>1</td>\n",
       "      <td>0</td>\n",
       "      <td>0</td>\n",
       "      <td>0</td>\n",
       "      <td>...</td>\n",
       "      <td>0</td>\n",
       "      <td>0</td>\n",
       "      <td>0</td>\n",
       "      <td>0</td>\n",
       "      <td>0</td>\n",
       "      <td>0</td>\n",
       "      <td>0</td>\n",
       "      <td>0</td>\n",
       "      <td>0</td>\n",
       "      <td>0</td>\n",
       "    </tr>\n",
       "    <tr>\n",
       "      <th>crispedricewafer</th>\n",
       "      <td>1</td>\n",
       "      <td>0</td>\n",
       "      <td>0</td>\n",
       "      <td>0</td>\n",
       "      <td>0</td>\n",
       "      <td>0</td>\n",
       "      <td>0</td>\n",
       "      <td>0</td>\n",
       "      <td>0</td>\n",
       "      <td>0</td>\n",
       "      <td>...</td>\n",
       "      <td>0</td>\n",
       "      <td>0</td>\n",
       "      <td>0</td>\n",
       "      <td>0</td>\n",
       "      <td>1</td>\n",
       "      <td>0</td>\n",
       "      <td>0</td>\n",
       "      <td>0</td>\n",
       "      <td>0</td>\n",
       "      <td>1</td>\n",
       "    </tr>\n",
       "    <tr>\n",
       "      <th>hard</th>\n",
       "      <td>0</td>\n",
       "      <td>0</td>\n",
       "      <td>0</td>\n",
       "      <td>0</td>\n",
       "      <td>0</td>\n",
       "      <td>0</td>\n",
       "      <td>0</td>\n",
       "      <td>0</td>\n",
       "      <td>0</td>\n",
       "      <td>0</td>\n",
       "      <td>...</td>\n",
       "      <td>0</td>\n",
       "      <td>0</td>\n",
       "      <td>0</td>\n",
       "      <td>0</td>\n",
       "      <td>0</td>\n",
       "      <td>0</td>\n",
       "      <td>1</td>\n",
       "      <td>0</td>\n",
       "      <td>1</td>\n",
       "      <td>0</td>\n",
       "    </tr>\n",
       "    <tr>\n",
       "      <th>bar</th>\n",
       "      <td>1</td>\n",
       "      <td>1</td>\n",
       "      <td>0</td>\n",
       "      <td>0</td>\n",
       "      <td>0</td>\n",
       "      <td>1</td>\n",
       "      <td>1</td>\n",
       "      <td>0</td>\n",
       "      <td>0</td>\n",
       "      <td>0</td>\n",
       "      <td>...</td>\n",
       "      <td>0</td>\n",
       "      <td>0</td>\n",
       "      <td>1</td>\n",
       "      <td>0</td>\n",
       "      <td>1</td>\n",
       "      <td>0</td>\n",
       "      <td>0</td>\n",
       "      <td>0</td>\n",
       "      <td>0</td>\n",
       "      <td>0</td>\n",
       "    </tr>\n",
       "    <tr>\n",
       "      <th>pluribus</th>\n",
       "      <td>0</td>\n",
       "      <td>0</td>\n",
       "      <td>0</td>\n",
       "      <td>0</td>\n",
       "      <td>0</td>\n",
       "      <td>0</td>\n",
       "      <td>0</td>\n",
       "      <td>1</td>\n",
       "      <td>1</td>\n",
       "      <td>0</td>\n",
       "      <td>...</td>\n",
       "      <td>0</td>\n",
       "      <td>1</td>\n",
       "      <td>0</td>\n",
       "      <td>1</td>\n",
       "      <td>0</td>\n",
       "      <td>0</td>\n",
       "      <td>0</td>\n",
       "      <td>1</td>\n",
       "      <td>0</td>\n",
       "      <td>1</td>\n",
       "    </tr>\n",
       "    <tr>\n",
       "      <th>sugarpercent</th>\n",
       "      <td>0.732</td>\n",
       "      <td>0.604</td>\n",
       "      <td>0.011</td>\n",
       "      <td>0.011</td>\n",
       "      <td>0.906</td>\n",
       "      <td>0.465</td>\n",
       "      <td>0.604</td>\n",
       "      <td>0.313</td>\n",
       "      <td>0.906</td>\n",
       "      <td>0.604</td>\n",
       "      <td>...</td>\n",
       "      <td>0.313</td>\n",
       "      <td>0.174</td>\n",
       "      <td>0.465</td>\n",
       "      <td>0.313</td>\n",
       "      <td>0.546</td>\n",
       "      <td>0.22</td>\n",
       "      <td>0.093</td>\n",
       "      <td>0.313</td>\n",
       "      <td>0.186</td>\n",
       "      <td>0.872</td>\n",
       "    </tr>\n",
       "    <tr>\n",
       "      <th>pricepercent</th>\n",
       "      <td>0.86</td>\n",
       "      <td>0.511</td>\n",
       "      <td>0.116</td>\n",
       "      <td>0.511</td>\n",
       "      <td>0.511</td>\n",
       "      <td>0.767</td>\n",
       "      <td>0.767</td>\n",
       "      <td>0.511</td>\n",
       "      <td>0.325</td>\n",
       "      <td>0.325</td>\n",
       "      <td>...</td>\n",
       "      <td>0.511</td>\n",
       "      <td>0.011</td>\n",
       "      <td>0.325</td>\n",
       "      <td>0.255</td>\n",
       "      <td>0.906</td>\n",
       "      <td>0.116</td>\n",
       "      <td>0.116</td>\n",
       "      <td>0.313</td>\n",
       "      <td>0.267</td>\n",
       "      <td>0.848</td>\n",
       "    </tr>\n",
       "    <tr>\n",
       "      <th>winpercent</th>\n",
       "      <td>66.971725</td>\n",
       "      <td>67.602936</td>\n",
       "      <td>32.261086</td>\n",
       "      <td>46.116505</td>\n",
       "      <td>52.341465</td>\n",
       "      <td>50.347546</td>\n",
       "      <td>56.914547</td>\n",
       "      <td>23.417824</td>\n",
       "      <td>38.010963</td>\n",
       "      <td>34.517681</td>\n",
       "      <td>...</td>\n",
       "      <td>43.068897</td>\n",
       "      <td>45.736748</td>\n",
       "      <td>49.653503</td>\n",
       "      <td>47.173229</td>\n",
       "      <td>81.642914</td>\n",
       "      <td>45.466282</td>\n",
       "      <td>39.011898</td>\n",
       "      <td>44.375519</td>\n",
       "      <td>41.904308</td>\n",
       "      <td>49.524113</td>\n",
       "    </tr>\n",
       "  </tbody>\n",
       "</table>\n",
       "<p>13 rows × 85 columns</p>\n",
       "</div>"
      ],
      "text/plain": [
       "                         0             1          2            3          4   \\\n",
       "competitorname    100 Grand  3 Musketeers   One dime  One quarter  Air Heads   \n",
       "chocolate                 1             1          0            0          0   \n",
       "fruity                    0             0          0            0          1   \n",
       "caramel                   1             0          0            0          0   \n",
       "peanutyalmondy            0             0          0            0          0   \n",
       "nougat                    0             1          0            0          0   \n",
       "crispedricewafer          1             0          0            0          0   \n",
       "hard                      0             0          0            0          0   \n",
       "bar                       1             1          0            0          0   \n",
       "pluribus                  0             0          0            0          0   \n",
       "sugarpercent          0.732         0.604      0.011        0.011      0.906   \n",
       "pricepercent           0.86         0.511      0.116        0.511      0.511   \n",
       "winpercent        66.971725     67.602936  32.261086    46.116505  52.341465   \n",
       "\n",
       "                          5          6                   7           8   \\\n",
       "competitorname    Almond Joy  Baby Ruth  Boston Baked Beans  Candy Corn   \n",
       "chocolate                  1          1                   0           0   \n",
       "fruity                     0          0                   0           0   \n",
       "caramel                    0          1                   0           0   \n",
       "peanutyalmondy             1          1                   1           0   \n",
       "nougat                     0          1                   0           0   \n",
       "crispedricewafer           0          0                   0           0   \n",
       "hard                       0          0                   0           0   \n",
       "bar                        1          1                   0           0   \n",
       "pluribus                   0          0                   1           1   \n",
       "sugarpercent           0.465      0.604               0.313       0.906   \n",
       "pricepercent           0.767      0.767               0.511       0.325   \n",
       "winpercent         50.347546  56.914547           23.417824   38.010963   \n",
       "\n",
       "                                  9   ...                    75  \\\n",
       "competitorname    Caramel Apple Pops  ...  Tootsie Roll Juniors   \n",
       "chocolate                          0  ...                     1   \n",
       "fruity                             1  ...                     0   \n",
       "caramel                            1  ...                     0   \n",
       "peanutyalmondy                     0  ...                     0   \n",
       "nougat                             0  ...                     0   \n",
       "crispedricewafer                   0  ...                     0   \n",
       "hard                               0  ...                     0   \n",
       "bar                                0  ...                     0   \n",
       "pluribus                           0  ...                     0   \n",
       "sugarpercent                   0.604  ...                 0.313   \n",
       "pricepercent                   0.325  ...                 0.511   \n",
       "winpercent                 34.517681  ...             43.068897   \n",
       "\n",
       "                                    76                       77  \\\n",
       "competitorname    Tootsie Roll Midgies  Tootsie Roll Snack Bars   \n",
       "chocolate                            1                        1   \n",
       "fruity                               0                        0   \n",
       "caramel                              0                        0   \n",
       "peanutyalmondy                       0                        0   \n",
       "nougat                               0                        0   \n",
       "crispedricewafer                     0                        0   \n",
       "hard                                 0                        0   \n",
       "bar                                  0                        1   \n",
       "pluribus                             1                        0   \n",
       "sugarpercent                     0.174                    0.465   \n",
       "pricepercent                     0.011                    0.325   \n",
       "winpercent                   45.736748                49.653503   \n",
       "\n",
       "                                 78         79         80         81  \\\n",
       "competitorname    Trolli Sour Bites       Twix  Twizzlers   Warheads   \n",
       "chocolate                         0          1          0          0   \n",
       "fruity                            1          0          1          1   \n",
       "caramel                           0          1          0          0   \n",
       "peanutyalmondy                    0          0          0          0   \n",
       "nougat                            0          0          0          0   \n",
       "crispedricewafer                  0          1          0          0   \n",
       "hard                              0          0          0          1   \n",
       "bar                               0          1          0          0   \n",
       "pluribus                          1          0          0          0   \n",
       "sugarpercent                  0.313      0.546       0.22      0.093   \n",
       "pricepercent                  0.255      0.906      0.116      0.116   \n",
       "winpercent                47.173229  81.642914  45.466282  39.011898   \n",
       "\n",
       "                                    82                          83         84  \n",
       "competitorname    WelchÕs Fruit Snacks  WertherÕs Original Caramel   Whoppers  \n",
       "chocolate                            0                           0          1  \n",
       "fruity                               1                           0          0  \n",
       "caramel                              0                           1          0  \n",
       "peanutyalmondy                       0                           0          0  \n",
       "nougat                               0                           0          0  \n",
       "crispedricewafer                     0                           0          1  \n",
       "hard                                 0                           1          0  \n",
       "bar                                  0                           0          0  \n",
       "pluribus                             1                           0          1  \n",
       "sugarpercent                     0.313                       0.186      0.872  \n",
       "pricepercent                     0.313                       0.267      0.848  \n",
       "winpercent                   44.375519                   41.904308  49.524113  \n",
       "\n",
       "[13 rows x 85 columns]"
      ]
     },
     "metadata": {},
     "output_type": "display_data"
    }
   ],
   "source": [
    "# Import the data\n",
    "candy_df = pd.read_csv('../input/candy-data/candy-data.csv')\n",
    "display(candy_df.T)"
   ]
  },
  {
   "cell_type": "code",
   "execution_count": 3,
   "id": "e7868c5b",
   "metadata": {
    "execution": {
     "iopub.execute_input": "2022-01-12T01:12:57.106184Z",
     "iopub.status.busy": "2022-01-12T01:12:57.105245Z",
     "iopub.status.idle": "2022-01-12T01:12:57.108178Z",
     "shell.execute_reply": "2022-01-12T01:12:57.107537Z",
     "shell.execute_reply.started": "2022-01-12T00:00:35.037430Z"
    },
    "papermill": {
     "duration": 0.050467,
     "end_time": "2022-01-12T01:12:57.108314",
     "exception": false,
     "start_time": "2022-01-12T01:12:57.057847",
     "status": "completed"
    },
    "tags": []
   },
   "outputs": [],
   "source": [
    "# Data Cleaning\n",
    "# Special character is appearing in name of candy. Therefore we will format it.\n",
    "candy_df['competitorname'] = candy_df.competitorname.apply(lambda l: l.replace('Õ', '\\''))"
   ]
  },
  {
   "cell_type": "markdown",
   "id": "9b89a43b",
   "metadata": {
    "papermill": {
     "duration": 0.038565,
     "end_time": "2022-01-12T01:12:57.185899",
     "exception": false,
     "start_time": "2022-01-12T01:12:57.147334",
     "status": "completed"
    },
    "tags": []
   },
   "source": [
    "# 1- Exploratory Data Analysis "
   ]
  },
  {
   "cell_type": "code",
   "execution_count": 4,
   "id": "a0e3a8d5",
   "metadata": {
    "execution": {
     "iopub.execute_input": "2022-01-12T01:12:57.267238Z",
     "iopub.status.busy": "2022-01-12T01:12:57.266214Z",
     "iopub.status.idle": "2022-01-12T01:13:11.294147Z",
     "shell.execute_reply": "2022-01-12T01:13:11.293610Z",
     "shell.execute_reply.started": "2022-01-12T00:00:35.049460Z"
    },
    "papermill": {
     "duration": 14.069792,
     "end_time": "2022-01-12T01:13:11.294294",
     "exception": false,
     "start_time": "2022-01-12T01:12:57.224502",
     "status": "completed"
    },
    "tags": []
   },
   "outputs": [
    {
     "data": {
      "application/vnd.jupyter.widget-view+json": {
       "model_id": "1aa6f1ce7fab472ca8eb5441a7a7efd0",
       "version_major": 2,
       "version_minor": 0
      },
      "text/plain": [
       "Summarize dataset:   0%|          | 0/26 [00:00<?, ?it/s]"
      ]
     },
     "metadata": {},
     "output_type": "display_data"
    },
    {
     "data": {
      "application/vnd.jupyter.widget-view+json": {
       "model_id": "233ef21749684e048d34251b1d25511b",
       "version_major": 2,
       "version_minor": 0
      },
      "text/plain": [
       "Generate report structure:   0%|          | 0/1 [00:00<?, ?it/s]"
      ]
     },
     "metadata": {},
     "output_type": "display_data"
    },
    {
     "data": {
      "application/vnd.jupyter.widget-view+json": {
       "model_id": "f228ebe6a9d4496797dc67d6bcd99850",
       "version_major": 2,
       "version_minor": 0
      },
      "text/plain": [
       "Render HTML:   0%|          | 0/1 [00:00<?, ?it/s]"
      ]
     },
     "metadata": {},
     "output_type": "display_data"
    },
    {
     "data": {
      "application/vnd.jupyter.widget-view+json": {
       "model_id": "3f38256dfa3347a3a4f464a7f246fddf",
       "version_major": 2,
       "version_minor": 0
      },
      "text/plain": [
       "Export report to file:   0%|          | 0/1 [00:00<?, ?it/s]"
      ]
     },
     "metadata": {},
     "output_type": "display_data"
    }
   ],
   "source": [
    "# Generate Report Using Pandas Profiling (Variables types,descriptions and distributions, correlations, ...)\n",
    "candy_df_profile = ProfileReport(candy_df)\n",
    "# Save profile to an HTML\n",
    "candy_df_profile.to_file(\"candy_data_exploration_report.html\")"
   ]
  },
  {
   "cell_type": "markdown",
   "id": "400218ed",
   "metadata": {
    "papermill": {
     "duration": 0.040626,
     "end_time": "2022-01-12T01:13:11.376050",
     "exception": false,
     "start_time": "2022-01-12T01:13:11.335424",
     "status": "completed"
    },
    "tags": []
   },
   "source": [
    "### Insights from the data profiling\n",
    "* The data looks good; appropriate dtype, basic statistics makes sense, no missing values. Therefore no data cleanup is required.\n",
    "* The data contains 83 candy brands and 12 candy properties. sugarpercent, pricepercent and winpercent are the only continuous features. The rest are boolean features.\n",
    "* The distribution of the win percentage (the dependant feature or the target) looks pretty symmetrical, and seems to center on about 45%. It varies from about 20% to 80% between the different brands.\n",
    "* From the correlation matrix, we can see the correlation of win percent to other features. Therefore there are some signals or relations in our data. We will explore the matrix in detail later.\n",
    "* Candy properties (the independent features) could be divided into taste features, appearance features, sugar amount, and price.\n",
    "\n",
    "#### Taste Properties\n",
    "* 43.5% of candies contain chocolate, 44.7% are fruit-flavored.\n",
    "* Caramel can be found in 16.5% of the 85 candies. \n",
    "* Candies containing peanuts/peanut butter/almonds only account for 16% of the candies, which may be due to the manufacturers accounting for people with nut allergies. \n",
    "* Only 8.2% of candies contain nougat. \n",
    "* Similar to nougat, candies with crisped rice/wafers/a cookie component only make up 8.2% of the candies.\n",
    "\n",
    "#### Appearance Properties\n",
    "* Hard candies make up 17% of the 85 candies. \n",
    "* Bar candies make up almost one quarter of the candies\n",
    "* 51.8% of candy packages are bags, 48.2% are boxes. "
   ]
  },
  {
   "cell_type": "code",
   "execution_count": 5,
   "id": "d5ecdd6c",
   "metadata": {
    "execution": {
     "iopub.execute_input": "2022-01-12T01:13:11.460812Z",
     "iopub.status.busy": "2022-01-12T01:13:11.460148Z",
     "iopub.status.idle": "2022-01-12T01:13:11.464312Z",
     "shell.execute_reply": "2022-01-12T01:13:11.464924Z",
     "shell.execute_reply.started": "2022-01-12T00:00:48.368216Z"
    },
    "papermill": {
     "duration": 0.048266,
     "end_time": "2022-01-12T01:13:11.465117",
     "exception": false,
     "start_time": "2022-01-12T01:13:11.416851",
     "status": "completed"
    },
    "tags": []
   },
   "outputs": [],
   "source": [
    "# sort candies by winpercent\n",
    "candy_sorted_win = candy_df.sort_values(by=['winpercent'], ascending=False)"
   ]
  },
  {
   "cell_type": "code",
   "execution_count": 6,
   "id": "bf7ce564",
   "metadata": {
    "execution": {
     "iopub.execute_input": "2022-01-12T01:13:11.550994Z",
     "iopub.status.busy": "2022-01-12T01:13:11.550374Z",
     "iopub.status.idle": "2022-01-12T01:13:11.565896Z",
     "shell.execute_reply": "2022-01-12T01:13:11.566427Z",
     "shell.execute_reply.started": "2022-01-12T00:00:48.376113Z"
    },
    "papermill": {
     "duration": 0.059604,
     "end_time": "2022-01-12T01:13:11.566591",
     "exception": false,
     "start_time": "2022-01-12T01:13:11.506987",
     "status": "completed"
    },
    "tags": []
   },
   "outputs": [
    {
     "data": {
      "text/html": [
       "<div>\n",
       "<style scoped>\n",
       "    .dataframe tbody tr th:only-of-type {\n",
       "        vertical-align: middle;\n",
       "    }\n",
       "\n",
       "    .dataframe tbody tr th {\n",
       "        vertical-align: top;\n",
       "    }\n",
       "\n",
       "    .dataframe thead th {\n",
       "        text-align: right;\n",
       "    }\n",
       "</style>\n",
       "<table border=\"1\" class=\"dataframe\">\n",
       "  <thead>\n",
       "    <tr style=\"text-align: right;\">\n",
       "      <th></th>\n",
       "      <th>competitorname</th>\n",
       "      <th>chocolate</th>\n",
       "      <th>fruity</th>\n",
       "      <th>caramel</th>\n",
       "      <th>peanutyalmondy</th>\n",
       "      <th>nougat</th>\n",
       "      <th>crispedricewafer</th>\n",
       "      <th>hard</th>\n",
       "      <th>bar</th>\n",
       "      <th>pluribus</th>\n",
       "      <th>sugarpercent</th>\n",
       "      <th>pricepercent</th>\n",
       "      <th>winpercent</th>\n",
       "    </tr>\n",
       "  </thead>\n",
       "  <tbody>\n",
       "    <tr>\n",
       "      <th>52</th>\n",
       "      <td>Reese's Peanut Butter cup</td>\n",
       "      <td>1</td>\n",
       "      <td>0</td>\n",
       "      <td>0</td>\n",
       "      <td>1</td>\n",
       "      <td>0</td>\n",
       "      <td>0</td>\n",
       "      <td>0</td>\n",
       "      <td>0</td>\n",
       "      <td>0</td>\n",
       "      <td>0.720</td>\n",
       "      <td>0.651</td>\n",
       "      <td>84.180290</td>\n",
       "    </tr>\n",
       "    <tr>\n",
       "      <th>51</th>\n",
       "      <td>Reese's Miniatures</td>\n",
       "      <td>1</td>\n",
       "      <td>0</td>\n",
       "      <td>0</td>\n",
       "      <td>1</td>\n",
       "      <td>0</td>\n",
       "      <td>0</td>\n",
       "      <td>0</td>\n",
       "      <td>0</td>\n",
       "      <td>0</td>\n",
       "      <td>0.034</td>\n",
       "      <td>0.279</td>\n",
       "      <td>81.866257</td>\n",
       "    </tr>\n",
       "    <tr>\n",
       "      <th>79</th>\n",
       "      <td>Twix</td>\n",
       "      <td>1</td>\n",
       "      <td>0</td>\n",
       "      <td>1</td>\n",
       "      <td>0</td>\n",
       "      <td>0</td>\n",
       "      <td>1</td>\n",
       "      <td>0</td>\n",
       "      <td>1</td>\n",
       "      <td>0</td>\n",
       "      <td>0.546</td>\n",
       "      <td>0.906</td>\n",
       "      <td>81.642914</td>\n",
       "    </tr>\n",
       "    <tr>\n",
       "      <th>28</th>\n",
       "      <td>Kit Kat</td>\n",
       "      <td>1</td>\n",
       "      <td>0</td>\n",
       "      <td>0</td>\n",
       "      <td>0</td>\n",
       "      <td>0</td>\n",
       "      <td>1</td>\n",
       "      <td>0</td>\n",
       "      <td>1</td>\n",
       "      <td>0</td>\n",
       "      <td>0.313</td>\n",
       "      <td>0.511</td>\n",
       "      <td>76.768600</td>\n",
       "    </tr>\n",
       "    <tr>\n",
       "      <th>64</th>\n",
       "      <td>Snickers</td>\n",
       "      <td>1</td>\n",
       "      <td>0</td>\n",
       "      <td>1</td>\n",
       "      <td>1</td>\n",
       "      <td>1</td>\n",
       "      <td>0</td>\n",
       "      <td>0</td>\n",
       "      <td>1</td>\n",
       "      <td>0</td>\n",
       "      <td>0.546</td>\n",
       "      <td>0.651</td>\n",
       "      <td>76.673782</td>\n",
       "    </tr>\n",
       "    <tr>\n",
       "      <th>53</th>\n",
       "      <td>Reese's pieces</td>\n",
       "      <td>1</td>\n",
       "      <td>0</td>\n",
       "      <td>0</td>\n",
       "      <td>1</td>\n",
       "      <td>0</td>\n",
       "      <td>0</td>\n",
       "      <td>0</td>\n",
       "      <td>0</td>\n",
       "      <td>1</td>\n",
       "      <td>0.406</td>\n",
       "      <td>0.651</td>\n",
       "      <td>73.434990</td>\n",
       "    </tr>\n",
       "    <tr>\n",
       "      <th>36</th>\n",
       "      <td>Milky Way</td>\n",
       "      <td>1</td>\n",
       "      <td>0</td>\n",
       "      <td>1</td>\n",
       "      <td>0</td>\n",
       "      <td>1</td>\n",
       "      <td>0</td>\n",
       "      <td>0</td>\n",
       "      <td>1</td>\n",
       "      <td>0</td>\n",
       "      <td>0.604</td>\n",
       "      <td>0.651</td>\n",
       "      <td>73.099556</td>\n",
       "    </tr>\n",
       "    <tr>\n",
       "      <th>54</th>\n",
       "      <td>Reese's stuffed with pieces</td>\n",
       "      <td>1</td>\n",
       "      <td>0</td>\n",
       "      <td>0</td>\n",
       "      <td>1</td>\n",
       "      <td>0</td>\n",
       "      <td>0</td>\n",
       "      <td>0</td>\n",
       "      <td>0</td>\n",
       "      <td>0</td>\n",
       "      <td>0.988</td>\n",
       "      <td>0.651</td>\n",
       "      <td>72.887901</td>\n",
       "    </tr>\n",
       "    <tr>\n",
       "      <th>32</th>\n",
       "      <td>Peanut butter M&amp;M's</td>\n",
       "      <td>1</td>\n",
       "      <td>0</td>\n",
       "      <td>0</td>\n",
       "      <td>1</td>\n",
       "      <td>0</td>\n",
       "      <td>0</td>\n",
       "      <td>0</td>\n",
       "      <td>0</td>\n",
       "      <td>1</td>\n",
       "      <td>0.825</td>\n",
       "      <td>0.651</td>\n",
       "      <td>71.465050</td>\n",
       "    </tr>\n",
       "    <tr>\n",
       "      <th>42</th>\n",
       "      <td>Nestle Butterfinger</td>\n",
       "      <td>1</td>\n",
       "      <td>0</td>\n",
       "      <td>0</td>\n",
       "      <td>1</td>\n",
       "      <td>0</td>\n",
       "      <td>0</td>\n",
       "      <td>0</td>\n",
       "      <td>1</td>\n",
       "      <td>0</td>\n",
       "      <td>0.604</td>\n",
       "      <td>0.767</td>\n",
       "      <td>70.735641</td>\n",
       "    </tr>\n",
       "  </tbody>\n",
       "</table>\n",
       "</div>"
      ],
      "text/plain": [
       "                 competitorname  chocolate  fruity  caramel  peanutyalmondy  \\\n",
       "52    Reese's Peanut Butter cup          1       0        0               1   \n",
       "51           Reese's Miniatures          1       0        0               1   \n",
       "79                         Twix          1       0        1               0   \n",
       "28                      Kit Kat          1       0        0               0   \n",
       "64                     Snickers          1       0        1               1   \n",
       "53               Reese's pieces          1       0        0               1   \n",
       "36                    Milky Way          1       0        1               0   \n",
       "54  Reese's stuffed with pieces          1       0        0               1   \n",
       "32          Peanut butter M&M's          1       0        0               1   \n",
       "42          Nestle Butterfinger          1       0        0               1   \n",
       "\n",
       "    nougat  crispedricewafer  hard  bar  pluribus  sugarpercent  pricepercent  \\\n",
       "52       0                 0     0    0         0         0.720         0.651   \n",
       "51       0                 0     0    0         0         0.034         0.279   \n",
       "79       0                 1     0    1         0         0.546         0.906   \n",
       "28       0                 1     0    1         0         0.313         0.511   \n",
       "64       1                 0     0    1         0         0.546         0.651   \n",
       "53       0                 0     0    0         1         0.406         0.651   \n",
       "36       1                 0     0    1         0         0.604         0.651   \n",
       "54       0                 0     0    0         0         0.988         0.651   \n",
       "32       0                 0     0    0         1         0.825         0.651   \n",
       "42       0                 0     0    1         0         0.604         0.767   \n",
       "\n",
       "    winpercent  \n",
       "52   84.180290  \n",
       "51   81.866257  \n",
       "79   81.642914  \n",
       "28   76.768600  \n",
       "64   76.673782  \n",
       "53   73.434990  \n",
       "36   73.099556  \n",
       "54   72.887901  \n",
       "32   71.465050  \n",
       "42   70.735641  "
      ]
     },
     "execution_count": 6,
     "metadata": {},
     "output_type": "execute_result"
    }
   ],
   "source": [
    "# What are the top 10 candies with the highest winpercent?\n",
    "candy_sorted_win.head(10)"
   ]
  },
  {
   "cell_type": "code",
   "execution_count": 7,
   "id": "b9561dae",
   "metadata": {
    "execution": {
     "iopub.execute_input": "2022-01-12T01:13:11.653255Z",
     "iopub.status.busy": "2022-01-12T01:13:11.652585Z",
     "iopub.status.idle": "2022-01-12T01:13:11.670573Z",
     "shell.execute_reply": "2022-01-12T01:13:11.670072Z",
     "shell.execute_reply.started": "2022-01-12T00:00:48.403089Z"
    },
    "papermill": {
     "duration": 0.062467,
     "end_time": "2022-01-12T01:13:11.670731",
     "exception": false,
     "start_time": "2022-01-12T01:13:11.608264",
     "status": "completed"
    },
    "tags": []
   },
   "outputs": [
    {
     "data": {
      "text/html": [
       "<div>\n",
       "<style scoped>\n",
       "    .dataframe tbody tr th:only-of-type {\n",
       "        vertical-align: middle;\n",
       "    }\n",
       "\n",
       "    .dataframe tbody tr th {\n",
       "        vertical-align: top;\n",
       "    }\n",
       "\n",
       "    .dataframe thead th {\n",
       "        text-align: right;\n",
       "    }\n",
       "</style>\n",
       "<table border=\"1\" class=\"dataframe\">\n",
       "  <thead>\n",
       "    <tr style=\"text-align: right;\">\n",
       "      <th></th>\n",
       "      <th>competitorname</th>\n",
       "      <th>chocolate</th>\n",
       "      <th>fruity</th>\n",
       "      <th>caramel</th>\n",
       "      <th>peanutyalmondy</th>\n",
       "      <th>nougat</th>\n",
       "      <th>crispedricewafer</th>\n",
       "      <th>hard</th>\n",
       "      <th>bar</th>\n",
       "      <th>pluribus</th>\n",
       "      <th>sugarpercent</th>\n",
       "      <th>pricepercent</th>\n",
       "      <th>winpercent</th>\n",
       "    </tr>\n",
       "  </thead>\n",
       "  <tbody>\n",
       "    <tr>\n",
       "      <th>19</th>\n",
       "      <td>Haribo Happy Cola</td>\n",
       "      <td>0</td>\n",
       "      <td>0</td>\n",
       "      <td>0</td>\n",
       "      <td>0</td>\n",
       "      <td>0</td>\n",
       "      <td>0</td>\n",
       "      <td>0</td>\n",
       "      <td>0</td>\n",
       "      <td>1</td>\n",
       "      <td>0.465</td>\n",
       "      <td>0.465</td>\n",
       "      <td>34.158958</td>\n",
       "    </tr>\n",
       "    <tr>\n",
       "      <th>70</th>\n",
       "      <td>Sugar Babies</td>\n",
       "      <td>0</td>\n",
       "      <td>0</td>\n",
       "      <td>1</td>\n",
       "      <td>0</td>\n",
       "      <td>0</td>\n",
       "      <td>0</td>\n",
       "      <td>0</td>\n",
       "      <td>0</td>\n",
       "      <td>1</td>\n",
       "      <td>0.965</td>\n",
       "      <td>0.767</td>\n",
       "      <td>33.437550</td>\n",
       "    </tr>\n",
       "    <tr>\n",
       "      <th>2</th>\n",
       "      <td>One dime</td>\n",
       "      <td>0</td>\n",
       "      <td>0</td>\n",
       "      <td>0</td>\n",
       "      <td>0</td>\n",
       "      <td>0</td>\n",
       "      <td>0</td>\n",
       "      <td>0</td>\n",
       "      <td>0</td>\n",
       "      <td>0</td>\n",
       "      <td>0.011</td>\n",
       "      <td>0.116</td>\n",
       "      <td>32.261086</td>\n",
       "    </tr>\n",
       "    <tr>\n",
       "      <th>71</th>\n",
       "      <td>Sugar Daddy</td>\n",
       "      <td>0</td>\n",
       "      <td>0</td>\n",
       "      <td>1</td>\n",
       "      <td>0</td>\n",
       "      <td>0</td>\n",
       "      <td>0</td>\n",
       "      <td>0</td>\n",
       "      <td>0</td>\n",
       "      <td>0</td>\n",
       "      <td>0.418</td>\n",
       "      <td>0.325</td>\n",
       "      <td>32.230995</td>\n",
       "    </tr>\n",
       "    <tr>\n",
       "      <th>57</th>\n",
       "      <td>Root Beer Barrels</td>\n",
       "      <td>0</td>\n",
       "      <td>0</td>\n",
       "      <td>0</td>\n",
       "      <td>0</td>\n",
       "      <td>0</td>\n",
       "      <td>0</td>\n",
       "      <td>1</td>\n",
       "      <td>0</td>\n",
       "      <td>1</td>\n",
       "      <td>0.732</td>\n",
       "      <td>0.069</td>\n",
       "      <td>29.703691</td>\n",
       "    </tr>\n",
       "    <tr>\n",
       "      <th>26</th>\n",
       "      <td>Jawbusters</td>\n",
       "      <td>0</td>\n",
       "      <td>1</td>\n",
       "      <td>0</td>\n",
       "      <td>0</td>\n",
       "      <td>0</td>\n",
       "      <td>0</td>\n",
       "      <td>1</td>\n",
       "      <td>0</td>\n",
       "      <td>1</td>\n",
       "      <td>0.093</td>\n",
       "      <td>0.511</td>\n",
       "      <td>28.127439</td>\n",
       "    </tr>\n",
       "    <tr>\n",
       "      <th>72</th>\n",
       "      <td>Super Bubble</td>\n",
       "      <td>0</td>\n",
       "      <td>1</td>\n",
       "      <td>0</td>\n",
       "      <td>0</td>\n",
       "      <td>0</td>\n",
       "      <td>0</td>\n",
       "      <td>0</td>\n",
       "      <td>0</td>\n",
       "      <td>0</td>\n",
       "      <td>0.162</td>\n",
       "      <td>0.116</td>\n",
       "      <td>27.303865</td>\n",
       "    </tr>\n",
       "    <tr>\n",
       "      <th>12</th>\n",
       "      <td>Chiclets</td>\n",
       "      <td>0</td>\n",
       "      <td>1</td>\n",
       "      <td>0</td>\n",
       "      <td>0</td>\n",
       "      <td>0</td>\n",
       "      <td>0</td>\n",
       "      <td>0</td>\n",
       "      <td>0</td>\n",
       "      <td>1</td>\n",
       "      <td>0.046</td>\n",
       "      <td>0.325</td>\n",
       "      <td>24.524988</td>\n",
       "    </tr>\n",
       "    <tr>\n",
       "      <th>7</th>\n",
       "      <td>Boston Baked Beans</td>\n",
       "      <td>0</td>\n",
       "      <td>0</td>\n",
       "      <td>0</td>\n",
       "      <td>1</td>\n",
       "      <td>0</td>\n",
       "      <td>0</td>\n",
       "      <td>0</td>\n",
       "      <td>0</td>\n",
       "      <td>1</td>\n",
       "      <td>0.313</td>\n",
       "      <td>0.511</td>\n",
       "      <td>23.417824</td>\n",
       "    </tr>\n",
       "    <tr>\n",
       "      <th>44</th>\n",
       "      <td>Nik L Nip</td>\n",
       "      <td>0</td>\n",
       "      <td>1</td>\n",
       "      <td>0</td>\n",
       "      <td>0</td>\n",
       "      <td>0</td>\n",
       "      <td>0</td>\n",
       "      <td>0</td>\n",
       "      <td>0</td>\n",
       "      <td>1</td>\n",
       "      <td>0.197</td>\n",
       "      <td>0.976</td>\n",
       "      <td>22.445341</td>\n",
       "    </tr>\n",
       "  </tbody>\n",
       "</table>\n",
       "</div>"
      ],
      "text/plain": [
       "        competitorname  chocolate  fruity  caramel  peanutyalmondy  nougat  \\\n",
       "19   Haribo Happy Cola          0       0        0               0       0   \n",
       "70        Sugar Babies          0       0        1               0       0   \n",
       "2             One dime          0       0        0               0       0   \n",
       "71         Sugar Daddy          0       0        1               0       0   \n",
       "57   Root Beer Barrels          0       0        0               0       0   \n",
       "26          Jawbusters          0       1        0               0       0   \n",
       "72        Super Bubble          0       1        0               0       0   \n",
       "12            Chiclets          0       1        0               0       0   \n",
       "7   Boston Baked Beans          0       0        0               1       0   \n",
       "44           Nik L Nip          0       1        0               0       0   \n",
       "\n",
       "    crispedricewafer  hard  bar  pluribus  sugarpercent  pricepercent  \\\n",
       "19                 0     0    0         1         0.465         0.465   \n",
       "70                 0     0    0         1         0.965         0.767   \n",
       "2                  0     0    0         0         0.011         0.116   \n",
       "71                 0     0    0         0         0.418         0.325   \n",
       "57                 0     1    0         1         0.732         0.069   \n",
       "26                 0     1    0         1         0.093         0.511   \n",
       "72                 0     0    0         0         0.162         0.116   \n",
       "12                 0     0    0         1         0.046         0.325   \n",
       "7                  0     0    0         1         0.313         0.511   \n",
       "44                 0     0    0         1         0.197         0.976   \n",
       "\n",
       "    winpercent  \n",
       "19   34.158958  \n",
       "70   33.437550  \n",
       "2    32.261086  \n",
       "71   32.230995  \n",
       "57   29.703691  \n",
       "26   28.127439  \n",
       "72   27.303865  \n",
       "12   24.524988  \n",
       "7    23.417824  \n",
       "44   22.445341  "
      ]
     },
     "execution_count": 7,
     "metadata": {},
     "output_type": "execute_result"
    }
   ],
   "source": [
    "# What are the flop 10 candies with lowest winpercent?\n",
    "candy_sorted_win.tail(10)"
   ]
  },
  {
   "cell_type": "markdown",
   "id": "f24d0965",
   "metadata": {
    "papermill": {
     "duration": 0.042361,
     "end_time": "2022-01-12T01:13:11.755344",
     "exception": false,
     "start_time": "2022-01-12T01:13:11.712983",
     "status": "completed"
    },
    "tags": []
   },
   "source": [
    "### Observations\n",
    "**In the top 10**\n",
    "* All instances have chocolate but are not fruity\n",
    "* The second place has almost no sugar\n",
    "* All are soft\n",
    "\n",
    "**In the flop 10**\n",
    "* There is no chocolate, nougat and crispedricewafer\n",
    "* All of them are no bar candies"
   ]
  },
  {
   "cell_type": "markdown",
   "id": "91cce2d0",
   "metadata": {
    "papermill": {
     "duration": 0.043078,
     "end_time": "2022-01-12T01:13:11.841304",
     "exception": false,
     "start_time": "2022-01-12T01:13:11.798226",
     "status": "completed"
    },
    "tags": []
   },
   "source": [
    "### Correlation Analysis\n",
    "Now that we have explored the dataset one variable at a time, we’ll see how the interactions of the variables with each other.\n",
    "\n",
    "These relations can be studied by simply computing the Pearson Correlation between different features. The correlation matrics contains every correlation coefficiant for every pair of features and target variable."
   ]
  },
  {
   "cell_type": "code",
   "execution_count": 8,
   "id": "b4590124",
   "metadata": {
    "execution": {
     "iopub.execute_input": "2022-01-12T01:13:11.954906Z",
     "iopub.status.busy": "2022-01-12T01:13:11.934981Z",
     "iopub.status.idle": "2022-01-12T01:13:13.039435Z",
     "shell.execute_reply": "2022-01-12T01:13:13.039989Z",
     "shell.execute_reply.started": "2022-01-12T00:00:48.426343Z"
    },
    "papermill": {
     "duration": 1.156027,
     "end_time": "2022-01-12T01:13:13.040176",
     "exception": false,
     "start_time": "2022-01-12T01:13:11.884149",
     "status": "completed"
    },
    "tags": []
   },
   "outputs": [
    {
     "data": {
      "text/plain": [
       "<AxesSubplot:title={'center':'Pearson Correlation matrix heatmap'}>"
      ]
     },
     "execution_count": 8,
     "metadata": {},
     "output_type": "execute_result"
    },
    {
     "data": {
      "image/png": "[encoded data removed]",
      "text/plain": [
       "<Figure size 1440x720 with 2 Axes>"
      ]
     },
     "metadata": {},
     "output_type": "display_data"
    }
   ],
   "source": [
    "plt.figure(figsize=(20,10))\n",
    "plt.title('Pearson Correlation matrix heatmap');\n",
    "mask=np.zeros_like(candy_df.corr(),dtype=np.bool)\n",
    "mask[np.triu_indices_from(mask)]=True\n",
    "sns.heatmap(candy_df.corr(),annot=True, mask=mask, cmap = 'coolwarm')"
   ]
  },
  {
   "cell_type": "code",
   "execution_count": 9,
   "id": "1a579ac5",
   "metadata": {
    "execution": {
     "iopub.execute_input": "2022-01-12T01:13:13.137750Z",
     "iopub.status.busy": "2022-01-12T01:13:13.136790Z",
     "iopub.status.idle": "2022-01-12T01:13:13.181998Z",
     "shell.execute_reply": "2022-01-12T01:13:13.182542Z",
     "shell.execute_reply.started": "2022-01-12T00:00:49.493853Z"
    },
    "papermill": {
     "duration": 0.095203,
     "end_time": "2022-01-12T01:13:13.182727",
     "exception": false,
     "start_time": "2022-01-12T01:13:13.087524",
     "status": "completed"
    },
    "tags": []
   },
   "outputs": [
    {
     "data": {
      "text/html": [
       "<div>\n",
       "<style scoped>\n",
       "    .dataframe tbody tr th:only-of-type {\n",
       "        vertical-align: middle;\n",
       "    }\n",
       "\n",
       "    .dataframe tbody tr th {\n",
       "        vertical-align: top;\n",
       "    }\n",
       "\n",
       "    .dataframe thead th {\n",
       "        text-align: right;\n",
       "    }\n",
       "</style>\n",
       "<table border=\"1\" class=\"dataframe\">\n",
       "  <thead>\n",
       "    <tr style=\"text-align: right;\">\n",
       "      <th></th>\n",
       "      <th>feature1</th>\n",
       "      <th>feature2</th>\n",
       "      <th>corr</th>\n",
       "    </tr>\n",
       "  </thead>\n",
       "  <tbody>\n",
       "    <tr>\n",
       "      <th>0</th>\n",
       "      <td>chocolate</td>\n",
       "      <td>fruity</td>\n",
       "      <td>-0.741721</td>\n",
       "    </tr>\n",
       "    <tr>\n",
       "      <th>1</th>\n",
       "      <td>chocolate</td>\n",
       "      <td>winpercent</td>\n",
       "      <td>0.636517</td>\n",
       "    </tr>\n",
       "    <tr>\n",
       "      <th>2</th>\n",
       "      <td>bar</td>\n",
       "      <td>chocolate</td>\n",
       "      <td>0.597421</td>\n",
       "    </tr>\n",
       "    <tr>\n",
       "      <th>3</th>\n",
       "      <td>bar</td>\n",
       "      <td>pluribus</td>\n",
       "      <td>-0.593409</td>\n",
       "    </tr>\n",
       "    <tr>\n",
       "      <th>4</th>\n",
       "      <td>bar</td>\n",
       "      <td>nougat</td>\n",
       "      <td>0.522976</td>\n",
       "    </tr>\n",
       "    <tr>\n",
       "      <th>5</th>\n",
       "      <td>bar</td>\n",
       "      <td>pricepercent</td>\n",
       "      <td>0.518407</td>\n",
       "    </tr>\n",
       "    <tr>\n",
       "      <th>6</th>\n",
       "      <td>bar</td>\n",
       "      <td>fruity</td>\n",
       "      <td>-0.515066</td>\n",
       "    </tr>\n",
       "    <tr>\n",
       "      <th>7</th>\n",
       "      <td>chocolate</td>\n",
       "      <td>pricepercent</td>\n",
       "      <td>0.504675</td>\n",
       "    </tr>\n",
       "    <tr>\n",
       "      <th>8</th>\n",
       "      <td>fruity</td>\n",
       "      <td>pricepercent</td>\n",
       "      <td>-0.430969</td>\n",
       "    </tr>\n",
       "    <tr>\n",
       "      <th>9</th>\n",
       "      <td>bar</td>\n",
       "      <td>winpercent</td>\n",
       "      <td>0.429929</td>\n",
       "    </tr>\n",
       "  </tbody>\n",
       "</table>\n",
       "</div>"
      ],
      "text/plain": [
       "    feature1      feature2      corr\n",
       "0  chocolate        fruity -0.741721\n",
       "1  chocolate    winpercent  0.636517\n",
       "2        bar     chocolate  0.597421\n",
       "3        bar      pluribus -0.593409\n",
       "4        bar        nougat  0.522976\n",
       "5        bar  pricepercent  0.518407\n",
       "6        bar        fruity -0.515066\n",
       "7  chocolate  pricepercent  0.504675\n",
       "8     fruity  pricepercent -0.430969\n",
       "9        bar    winpercent  0.429929"
      ]
     },
     "execution_count": 9,
     "metadata": {},
     "output_type": "execute_result"
    }
   ],
   "source": [
    "# Since the matrics is large, here the top ten of correlations (positive and negative):\n",
    "corr_df = pd.DataFrame([(f1, f2, candy_df.corr()[f1].loc[f2]) for (f1, f2) in itertools.combinations(candy_df.columns[1:].sort_values(), 2)],\n",
    "             columns=['feature1', 'feature2', 'corr']).sort_values('corr')\n",
    "\n",
    "corr_df = corr_df.iloc[(-corr_df['corr'].abs()).argsort()].reset_index(drop=True)\n",
    "corr_df[:10]"
   ]
  },
  {
   "cell_type": "code",
   "execution_count": 10,
   "id": "9eefeefc",
   "metadata": {
    "execution": {
     "iopub.execute_input": "2022-01-12T01:13:13.277689Z",
     "iopub.status.busy": "2022-01-12T01:13:13.276737Z",
     "iopub.status.idle": "2022-01-12T01:13:13.288835Z",
     "shell.execute_reply": "2022-01-12T01:13:13.289383Z",
     "shell.execute_reply.started": "2022-01-12T00:00:49.543390Z"
    },
    "papermill": {
     "duration": 0.061275,
     "end_time": "2022-01-12T01:13:13.289553",
     "exception": false,
     "start_time": "2022-01-12T01:13:13.228278",
     "status": "completed"
    },
    "tags": []
   },
   "outputs": [
    {
     "data": {
      "text/html": [
       "<div>\n",
       "<style scoped>\n",
       "    .dataframe tbody tr th:only-of-type {\n",
       "        vertical-align: middle;\n",
       "    }\n",
       "\n",
       "    .dataframe tbody tr th {\n",
       "        vertical-align: top;\n",
       "    }\n",
       "\n",
       "    .dataframe thead th {\n",
       "        text-align: right;\n",
       "    }\n",
       "</style>\n",
       "<table border=\"1\" class=\"dataframe\">\n",
       "  <thead>\n",
       "    <tr style=\"text-align: right;\">\n",
       "      <th></th>\n",
       "      <th>feature1</th>\n",
       "      <th>feature2</th>\n",
       "      <th>corr</th>\n",
       "    </tr>\n",
       "  </thead>\n",
       "  <tbody>\n",
       "    <tr>\n",
       "      <th>1</th>\n",
       "      <td>chocolate</td>\n",
       "      <td>winpercent</td>\n",
       "      <td>0.636517</td>\n",
       "    </tr>\n",
       "    <tr>\n",
       "      <th>9</th>\n",
       "      <td>bar</td>\n",
       "      <td>winpercent</td>\n",
       "      <td>0.429929</td>\n",
       "    </tr>\n",
       "    <tr>\n",
       "      <th>11</th>\n",
       "      <td>peanutyalmondy</td>\n",
       "      <td>winpercent</td>\n",
       "      <td>0.406192</td>\n",
       "    </tr>\n",
       "    <tr>\n",
       "      <th>14</th>\n",
       "      <td>fruity</td>\n",
       "      <td>winpercent</td>\n",
       "      <td>-0.380938</td>\n",
       "    </tr>\n",
       "    <tr>\n",
       "      <th>16</th>\n",
       "      <td>pricepercent</td>\n",
       "      <td>winpercent</td>\n",
       "      <td>0.345325</td>\n",
       "    </tr>\n",
       "    <tr>\n",
       "      <th>25</th>\n",
       "      <td>crispedricewafer</td>\n",
       "      <td>winpercent</td>\n",
       "      <td>0.324680</td>\n",
       "    </tr>\n",
       "    <tr>\n",
       "      <th>26</th>\n",
       "      <td>hard</td>\n",
       "      <td>winpercent</td>\n",
       "      <td>-0.310382</td>\n",
       "    </tr>\n",
       "    <tr>\n",
       "      <th>38</th>\n",
       "      <td>pluribus</td>\n",
       "      <td>winpercent</td>\n",
       "      <td>-0.247448</td>\n",
       "    </tr>\n",
       "    <tr>\n",
       "      <th>40</th>\n",
       "      <td>sugarpercent</td>\n",
       "      <td>winpercent</td>\n",
       "      <td>0.229151</td>\n",
       "    </tr>\n",
       "    <tr>\n",
       "      <th>44</th>\n",
       "      <td>caramel</td>\n",
       "      <td>winpercent</td>\n",
       "      <td>0.213416</td>\n",
       "    </tr>\n",
       "    <tr>\n",
       "      <th>49</th>\n",
       "      <td>nougat</td>\n",
       "      <td>winpercent</td>\n",
       "      <td>0.199375</td>\n",
       "    </tr>\n",
       "  </tbody>\n",
       "</table>\n",
       "</div>"
      ],
      "text/plain": [
       "            feature1    feature2      corr\n",
       "1          chocolate  winpercent  0.636517\n",
       "9                bar  winpercent  0.429929\n",
       "11    peanutyalmondy  winpercent  0.406192\n",
       "14            fruity  winpercent -0.380938\n",
       "16      pricepercent  winpercent  0.345325\n",
       "25  crispedricewafer  winpercent  0.324680\n",
       "26              hard  winpercent -0.310382\n",
       "38          pluribus  winpercent -0.247448\n",
       "40      sugarpercent  winpercent  0.229151\n",
       "44           caramel  winpercent  0.213416\n",
       "49            nougat  winpercent  0.199375"
      ]
     },
     "execution_count": 10,
     "metadata": {},
     "output_type": "execute_result"
    }
   ],
   "source": [
    "# Correlation coefficients for winpercent only\n",
    "corr_df[(corr_df.feature1 == 'winpercent') | (corr_df.feature2 == 'winpercent')]"
   ]
  },
  {
   "cell_type": "markdown",
   "id": "55da710d",
   "metadata": {
    "papermill": {
     "duration": 0.046848,
     "end_time": "2022-01-12T01:13:13.382363",
     "exception": false,
     "start_time": "2022-01-12T01:13:13.335515",
     "status": "completed"
    },
    "tags": []
   },
   "source": [
    "### Insights from correlation analysis\n",
    "\n",
    "#### **Taste & Appearcance**\n",
    "* Having chocolate in the candy would give a high win percentage, followed by being a bar candy and having peanuts/peanut butter/almonds.\n",
    "* Chocolate frequently comes in bar-shaped candies, also with peanut/almond, crisp texture, and nougat or caramel. The opposite happens with fruit-flavored candies, which frequently miss those categories. Chocolaty candies are rarely fruity.\n",
    "* Fruity taste is negatively correlated with other tastes (caramel, chocolate and peanutyalmondy), while the rest are positively correlated.\n",
    "* Fruity candies, as compared to the others, are more likely to be a hard candy.\n",
    "* There is a very small correlation between caramel and peanutyalmondy, which is surprising because of the popularity of some of the well-known brands due to the combination of these two tastes.\n",
    "* Packaging in bags is only positively correlated with hard candies. Soft candies are packed mostly in box packages.\n",
    "\n",
    "#### **Sugar**\n",
    "* Sugar content is very well balanced among all categories, except price (cheaper candies also have lower sugar levels).\n",
    "* Sugar is is not that affected by taste and shape factors, which seems to be reasonable. As expected, caramel is naturally mixed with a considerable amount of sugar and therefore has the most impact on sugar amount compared to other categories.\n",
    "* There is only a slight positive correlation between sugar percentile and the win percentage at 0.23.\n",
    "\n",
    "#### **Price**\n",
    "* Chocolate is sold at significantly higher prices than average whereas fruit-flavored at lower prices.\n",
    "* Price has a slightly more positive correlation with winning than sugar does, but there are some more expensive candies that have a win percentage lower than 40.\n",
    "\n",
    "**According to the heatmap a first recommendation could be a soft, non fruity, one-bar candy with chocolate, nuts (peanuts, almonds, ..) and some crunch (cookies, waffles, ...).**"
   ]
  },
  {
   "cell_type": "markdown",
   "id": "81219abc",
   "metadata": {
    "papermill": {
     "duration": 0.045642,
     "end_time": "2022-01-12T01:13:13.474093",
     "exception": false,
     "start_time": "2022-01-12T01:13:13.428451",
     "status": "completed"
    },
    "tags": []
   },
   "source": [
    "### Taste Properties Analysis"
   ]
  },
  {
   "cell_type": "markdown",
   "id": "a961fa02",
   "metadata": {
    "papermill": {
     "duration": 0.045408,
     "end_time": "2022-01-12T01:13:13.565308",
     "exception": false,
     "start_time": "2022-01-12T01:13:13.519900",
     "status": "completed"
    },
    "tags": []
   },
   "source": [
    "### Chocolate"
   ]
  },
  {
   "cell_type": "code",
   "execution_count": 11,
   "id": "8d0c997c",
   "metadata": {
    "_kg_hide-input": true,
    "_kg_hide-output": true,
    "execution": {
     "iopub.execute_input": "2022-01-12T01:13:13.661358Z",
     "iopub.status.busy": "2022-01-12T01:13:13.660348Z",
     "iopub.status.idle": "2022-01-12T01:13:14.081089Z",
     "shell.execute_reply": "2022-01-12T01:13:14.080045Z",
     "shell.execute_reply.started": "2022-01-12T00:50:54.396498Z"
    },
    "papermill": {
     "duration": 0.470155,
     "end_time": "2022-01-12T01:13:14.081245",
     "exception": false,
     "start_time": "2022-01-12T01:13:13.611090",
     "status": "completed"
    },
    "tags": []
   },
   "outputs": [
    {
     "data": {
      "text/plain": [
       "Text(0.5, 0, 'Contains Chocolate ?')"
      ]
     },
     "execution_count": 11,
     "metadata": {},
     "output_type": "execute_result"
    },
    {
     "data": {
      "image/png": "[encoded data removed]",
      "text/plain": [
       "<Figure size 1440x576 with 2 Axes>"
      ]
     },
     "metadata": {},
     "output_type": "display_data"
    }
   ],
   "source": [
    "plt.figure(figsize=(20,8))\n",
    "plt.suptitle(\"Chocolate Plots\", fontsize=20)\n",
    "\n",
    "plt.subplot(1,3,2)\n",
    "plt.title(\"Price percentage with and without Chocolate\",fontsize=16)\n",
    "sns.boxplot(y=\"pricepercent\", x=\"chocolate\", data=candy_df, palette=\"gray\")\n",
    "plt.xlabel(\"Contains Chocolate ?\")\n",
    "\n",
    "plt.subplot(1,3,3)\n",
    "plt.title(\"Wining precentage with and without Chocolate\",fontsize=16)\n",
    "sns.violinplot(data=candy_df,x=\"chocolate\",y=\"winpercent\",palette=\"gray_r\")\n",
    "plt.xlabel(\"Contains Chocolate ?\")"
   ]
  },
  {
   "cell_type": "markdown",
   "id": "5c834d79",
   "metadata": {
    "papermill": {
     "duration": 0.048657,
     "end_time": "2022-01-12T01:13:14.178421",
     "exception": false,
     "start_time": "2022-01-12T01:13:14.129764",
     "status": "completed"
    },
    "tags": []
   },
   "source": [
    "Observations\n",
    "\n",
    "* Chocolate is the key for win (nothing without chocolate has more than 80 as a winning score)\n",
    "* Chocolate is generally pricey."
   ]
  },
  {
   "cell_type": "markdown",
   "id": "eb2bd3f0",
   "metadata": {
    "papermill": {
     "duration": 0.047785,
     "end_time": "2022-01-12T01:13:14.274151",
     "exception": false,
     "start_time": "2022-01-12T01:13:14.226366",
     "status": "completed"
    },
    "tags": []
   },
   "source": [
    "### Caramel"
   ]
  },
  {
   "cell_type": "code",
   "execution_count": 12,
   "id": "dea13fd3",
   "metadata": {
    "_kg_hide-input": true,
    "execution": {
     "iopub.execute_input": "2022-01-12T01:13:14.407999Z",
     "iopub.status.busy": "2022-01-12T01:13:14.406921Z",
     "iopub.status.idle": "2022-01-12T01:13:14.734377Z",
     "shell.execute_reply": "2022-01-12T01:13:14.733806Z",
     "shell.execute_reply.started": "2022-01-12T00:55:48.016920Z"
    },
    "papermill": {
     "duration": 0.412113,
     "end_time": "2022-01-12T01:13:14.734525",
     "exception": false,
     "start_time": "2022-01-12T01:13:14.322412",
     "status": "completed"
    },
    "tags": []
   },
   "outputs": [
    {
     "data": {
      "image/png": "[encoded data removed]",
      "text/plain": [
       "<Figure size 1440x576 with 2 Axes>"
      ]
     },
     "metadata": {},
     "output_type": "display_data"
    }
   ],
   "source": [
    "plt.figure(figsize=(20,8))\n",
    "plt.suptitle(\"Caramel Plots\", fontsize=20)\n",
    "\n",
    "plt.subplot(1,3,1)\n",
    "plt.title(\"Wining precentage with and without Caramel\",fontsize=16)\n",
    "sns.violinplot(data=candy_df,x=\"caramel\",y=\"winpercent\",palette=\"YlOrRd\")\n",
    "plt.xlabel(\"Contains Caramel ?\")\n",
    "\n",
    "plt.subplot(1,3,2)\n",
    "plt.title(\"Price percentage with and without Caramel\",fontsize=16)\n",
    "sns.boxplot(y=\"pricepercent\", x=\"caramel\", data=candy_df, palette=\"YlOrRd\")\n",
    "plt.xlabel(\"Contains Caramel ?\")\n",
    "\n",
    "plt.show()"
   ]
  },
  {
   "cell_type": "markdown",
   "id": "a1081ef3",
   "metadata": {
    "papermill": {
     "duration": 0.049675,
     "end_time": "2022-01-12T01:13:14.835208",
     "exception": false,
     "start_time": "2022-01-12T01:13:14.785533",
     "status": "completed"
    },
    "tags": []
   },
   "source": [
    "Observationse\n",
    "\n",
    "* Caramal does have a slight effect on winning.\n",
    "* It's not super costly but since it is generally used with multiple ingredients it has higher price."
   ]
  },
  {
   "cell_type": "markdown",
   "id": "d62edcf4",
   "metadata": {
    "papermill": {
     "duration": 0.049698,
     "end_time": "2022-01-12T01:13:14.934949",
     "exception": false,
     "start_time": "2022-01-12T01:13:14.885251",
     "status": "completed"
    },
    "tags": []
   },
   "source": [
    "## Fruity"
   ]
  },
  {
   "cell_type": "code",
   "execution_count": 13,
   "id": "46798f8e",
   "metadata": {
    "execution": {
     "iopub.execute_input": "2022-01-12T01:13:15.057443Z",
     "iopub.status.busy": "2022-01-12T01:13:15.056428Z",
     "iopub.status.idle": "2022-01-12T01:13:15.424529Z",
     "shell.execute_reply": "2022-01-12T01:13:15.425034Z",
     "shell.execute_reply.started": "2022-01-12T00:57:06.602624Z"
    },
    "papermill": {
     "duration": 0.43658,
     "end_time": "2022-01-12T01:13:15.425205",
     "exception": false,
     "start_time": "2022-01-12T01:13:14.988625",
     "status": "completed"
    },
    "tags": []
   },
   "outputs": [
    {
     "data": {
      "image/png": "[encoded data removed]",
      "text/plain": [
       "<Figure size 1440x576 with 2 Axes>"
      ]
     },
     "metadata": {},
     "output_type": "display_data"
    }
   ],
   "source": [
    "plt.figure(figsize=(20,8))\n",
    "plt.suptitle(\"Fruit Plots\", fontsize=20)\n",
    "\n",
    "plt.subplot(1,3,1)\n",
    "plt.title(\"Wining precentage with and without Fruits\",fontsize=16)\n",
    "sns.violinplot(data=candy_df,x=\"fruity\",y=\"winpercent\",palette=\"husl\")\n",
    "plt.xlabel(\"Contains Fruits ?\")\n",
    "\n",
    "plt.subplot(1,3,2)\n",
    "plt.title(\"Price percentage with and without Fruits\",fontsize=16)\n",
    "sns.boxplot(y=\"pricepercent\", x=\"fruity\", data=candy_df, palette=\"gist_stern_r\")\n",
    "plt.xlabel(\"Contains Fruits ?\")\n",
    "\n",
    "plt.show()"
   ]
  },
  {
   "cell_type": "markdown",
   "id": "778dab27",
   "metadata": {
    "papermill": {
     "duration": 0.052026,
     "end_time": "2022-01-12T01:13:15.528961",
     "exception": false,
     "start_time": "2022-01-12T01:13:15.476935",
     "status": "completed"
    },
    "tags": []
   },
   "source": [
    "Observations:\n",
    "\n",
    "* Fruits are not good for winning. Best score from fruity candy is close to 80, and mean score around 40s.\n",
    "* fruit-flavored candies are sold at significantly lower prices than average."
   ]
  },
  {
   "cell_type": "markdown",
   "id": "0719ba18",
   "metadata": {
    "papermill": {
     "duration": 0.051591,
     "end_time": "2022-01-12T01:13:15.632080",
     "exception": false,
     "start_time": "2022-01-12T01:13:15.580489",
     "status": "completed"
    },
    "tags": []
   },
   "source": [
    "## Peanut"
   ]
  },
  {
   "cell_type": "code",
   "execution_count": 14,
   "id": "d1133b07",
   "metadata": {
    "execution": {
     "iopub.execute_input": "2022-01-12T01:13:15.740160Z",
     "iopub.status.busy": "2022-01-12T01:13:15.739157Z",
     "iopub.status.idle": "2022-01-12T01:13:16.104951Z",
     "shell.execute_reply": "2022-01-12T01:13:16.104401Z",
     "shell.execute_reply.started": "2022-01-12T01:03:11.719954Z"
    },
    "papermill": {
     "duration": 0.42119,
     "end_time": "2022-01-12T01:13:16.105113",
     "exception": false,
     "start_time": "2022-01-12T01:13:15.683923",
     "status": "completed"
    },
    "tags": []
   },
   "outputs": [
    {
     "data": {
      "image/png": "[encoded data removed]",
      "text/plain": [
       "<Figure size 1440x576 with 2 Axes>"
      ]
     },
     "metadata": {},
     "output_type": "display_data"
    }
   ],
   "source": [
    "plt.figure(figsize=(20,8))\n",
    "plt.suptitle(\"Peanut Plots\", fontsize=20)\n",
    "\n",
    "plt.subplot(1,3,1)\n",
    "plt.title(\"Wining precentage with and without Peanut\",fontsize=16)\n",
    "sns.violinplot(data=candy_df,x=\"peanutyalmondy\",y=\"winpercent\",palette=\"YlOrBr_r\")\n",
    "plt.xlabel(\"Contains Peanut ?\")\n",
    "\n",
    "plt.subplot(1,3,2)\n",
    "plt.title(\"Price percentage with and without Peanut\",fontsize=16)\n",
    "sns.boxplot(y=\"pricepercent\", x=\"peanutyalmondy\", data=candy_df, palette=\"YlOrBr\")\n",
    "plt.xlabel(\"Contains Peanut ?\")\n",
    "\n",
    "plt.show()"
   ]
  },
  {
   "cell_type": "markdown",
   "id": "786e7bd8",
   "metadata": {
    "papermill": {
     "duration": 0.053009,
     "end_time": "2022-01-12T01:13:16.211602",
     "exception": false,
     "start_time": "2022-01-12T01:13:16.158593",
     "status": "completed"
    },
    "tags": []
   },
   "source": [
    "Observations:\n",
    "\n",
    "* Peanut is also key of Winning.\n",
    "* Also expensive."
   ]
  },
  {
   "cell_type": "markdown",
   "id": "ecd29e80",
   "metadata": {
    "papermill": {
     "duration": 0.052877,
     "end_time": "2022-01-12T01:13:16.317671",
     "exception": false,
     "start_time": "2022-01-12T01:13:16.264794",
     "status": "completed"
    },
    "tags": []
   },
   "source": [
    "## Nougat"
   ]
  },
  {
   "cell_type": "code",
   "execution_count": 15,
   "id": "cfca0579",
   "metadata": {
    "execution": {
     "iopub.execute_input": "2022-01-12T01:13:16.465226Z",
     "iopub.status.busy": "2022-01-12T01:13:16.426718Z",
     "iopub.status.idle": "2022-01-12T01:13:16.793612Z",
     "shell.execute_reply": "2022-01-12T01:13:16.794127Z",
     "shell.execute_reply.started": "2022-01-12T01:05:48.241024Z"
    },
    "papermill": {
     "duration": 0.423695,
     "end_time": "2022-01-12T01:13:16.794306",
     "exception": false,
     "start_time": "2022-01-12T01:13:16.370611",
     "status": "completed"
    },
    "tags": []
   },
   "outputs": [
    {
     "data": {
      "image/png": "[encoded data removed]",
      "text/plain": [
       "<Figure size 1440x576 with 2 Axes>"
      ]
     },
     "metadata": {},
     "output_type": "display_data"
    }
   ],
   "source": [
    "plt.figure(figsize=(20,8))\n",
    "plt.suptitle(\"Nougat Plots\", fontsize=20)\n",
    "\n",
    "plt.subplot(1,3,1)\n",
    "plt.title(\"Wining precentage with and without Nougat\",fontsize=16)\n",
    "sns.violinplot(data=candy_df,x=\"nougat\",y=\"winpercent\",palette=\"pink\")\n",
    "plt.xlabel(\"Contains Nougat ?\")\n",
    "\n",
    "plt.subplot(1,3,2)\n",
    "plt.title(\"Price percentage with and without Nougat\",fontsize=16)\n",
    "sns.boxplot(y=\"pricepercent\", x=\"nougat\", data=candy_df, palette=\"pink\")\n",
    "plt.xlabel(\"Contains Nougat ?\")\n",
    "\n",
    "plt.show()"
   ]
  },
  {
   "cell_type": "markdown",
   "id": "14bdebc8",
   "metadata": {
    "papermill": {
     "duration": 0.055231,
     "end_time": "2022-01-12T01:13:16.905152",
     "exception": false,
     "start_time": "2022-01-12T01:13:16.849921",
     "status": "completed"
    },
    "tags": []
   },
   "source": [
    "Observations:\n",
    "\n",
    "* It has small effect on winning. general scores are between 60 and 80.\n",
    "* Slightly more expensive than the others."
   ]
  },
  {
   "cell_type": "markdown",
   "id": "5495cbf3",
   "metadata": {
    "papermill": {
     "duration": 0.055706,
     "end_time": "2022-01-12T01:13:17.016609",
     "exception": false,
     "start_time": "2022-01-12T01:13:16.960903",
     "status": "completed"
    },
    "tags": []
   },
   "source": [
    "## Crisped Rice or Wafer"
   ]
  },
  {
   "cell_type": "code",
   "execution_count": 16,
   "id": "318ccb97",
   "metadata": {
    "execution": {
     "iopub.execute_input": "2022-01-12T01:13:17.133776Z",
     "iopub.status.busy": "2022-01-12T01:13:17.132793Z",
     "iopub.status.idle": "2022-01-12T01:13:17.506614Z",
     "shell.execute_reply": "2022-01-12T01:13:17.507197Z",
     "shell.execute_reply.started": "2022-01-12T01:07:02.575812Z"
    },
    "papermill": {
     "duration": 0.433963,
     "end_time": "2022-01-12T01:13:17.507383",
     "exception": false,
     "start_time": "2022-01-12T01:13:17.073420",
     "status": "completed"
    },
    "tags": []
   },
   "outputs": [
    {
     "data": {
      "image/png": "[encoded data removed]",
      "text/plain": [
       "<Figure size 1800x576 with 2 Axes>"
      ]
     },
     "metadata": {},
     "output_type": "display_data"
    }
   ],
   "source": [
    "plt.figure(figsize=(25,8))\n",
    "plt.suptitle(\"Crisped Rice or Wafer Plots\", fontsize=20)\n",
    "\n",
    "plt.subplot(1,3,1)\n",
    "plt.title(\"Wining precentage with and without crispedricewafer\",fontsize=16)\n",
    "sns.violinplot(data=candy_df,x=\"crispedricewafer\",y=\"winpercent\",palette=\"Spectral_r\")\n",
    "plt.xlabel(\"Contains Crisped Rice or Wafer ?\")\n",
    "\n",
    "plt.subplot(1,3,2)\n",
    "plt.title(\"Price percentage with and without Crisped Rice or Wafer\",fontsize=16)\n",
    "sns.boxplot(y=\"pricepercent\", x=\"crispedricewafer\", data=candy_df, palette=\"Spectral_r\")\n",
    "plt.xlabel(\"Contains Crisped Rice or Wafer ?\")\n",
    "\n",
    "plt.show()"
   ]
  },
  {
   "cell_type": "markdown",
   "id": "0557a5bd",
   "metadata": {
    "papermill": {
     "duration": 0.057467,
     "end_time": "2022-01-12T01:13:17.623414",
     "exception": false,
     "start_time": "2022-01-12T01:13:17.565947",
     "status": "completed"
    },
    "tags": []
   },
   "source": [
    "Observations:\n",
    "\n",
    "* It has considerably good effect on winning. Minimun score is 40, which is a good sign\n",
    "* More expensive than the others."
   ]
  },
  {
   "cell_type": "markdown",
   "id": "43306104",
   "metadata": {
    "papermill": {
     "duration": 0.057969,
     "end_time": "2022-01-12T01:13:17.738960",
     "exception": false,
     "start_time": "2022-01-12T01:13:17.680991",
     "status": "completed"
    },
    "tags": []
   },
   "source": [
    "# 2- Cluster Analysis"
   ]
  },
  {
   "cell_type": "markdown",
   "id": "76f2013e",
   "metadata": {
    "papermill": {
     "duration": 0.057624,
     "end_time": "2022-01-12T01:13:17.853760",
     "exception": false,
     "start_time": "2022-01-12T01:13:17.796136",
     "status": "completed"
    },
    "tags": []
   },
   "source": [
    "We will leverage cluster analysis to understand how many groups we have in our data, what is the average win percent of each cluster, and what is the characteristics of the class with high average win percent.\n",
    "\n",
    "K-Means is an unsupervised clustering algorithm that groups data into k number of clusters. The number of clusters is user-defined.\n",
    "Therefore we have to come up with a technique that somehow will help us decide how many clusters we should use for the K-Means model.\n",
    "\n",
    "The Elbow method is a very popular technique and the idea is to run k-means clustering for a range of clusters k (let’s say from 1 to 10) and for each value, we are calculating the sum of squared distances from each point to its assigned center(distortions).\n",
    "\n",
    "When the distortions are plotted and the plot looks like an arm then the “elbow”(the point of inflection on the curve) is the best value of k."
   ]
  },
  {
   "cell_type": "markdown",
   "id": "f30725d0",
   "metadata": {
    "papermill": {
     "duration": 0.05745,
     "end_time": "2022-01-12T01:13:17.970017",
     "exception": false,
     "start_time": "2022-01-12T01:13:17.912567",
     "status": "completed"
    },
    "tags": []
   },
   "source": [
    "In our case by applying the Elbow method to the Candy dataset without win percent feature, we are getting the following plot."
   ]
  },
  {
   "cell_type": "code",
   "execution_count": 17,
   "id": "b64e2953",
   "metadata": {
    "execution": {
     "iopub.execute_input": "2022-01-12T01:13:18.095498Z",
     "iopub.status.busy": "2022-01-12T01:13:18.094394Z",
     "iopub.status.idle": "2022-01-12T01:13:19.287338Z",
     "shell.execute_reply": "2022-01-12T01:13:19.287852Z",
     "shell.execute_reply.started": "2022-01-12T00:00:52.720617Z"
    },
    "papermill": {
     "duration": 1.259651,
     "end_time": "2022-01-12T01:13:19.288040",
     "exception": false,
     "start_time": "2022-01-12T01:13:18.028389",
     "status": "completed"
    },
    "tags": []
   },
   "outputs": [
    {
     "data": {
      "image/png": "[encoded data removed]",
      "text/plain": [
       "<Figure size 576x396 with 2 Axes>"
      ]
     },
     "metadata": {},
     "output_type": "display_data"
    },
    {
     "data": {
      "text/plain": [
       "<AxesSubplot:title={'center':'Distortion Score Elbow for KMeans Clustering'}, xlabel='k', ylabel='distortion score'>"
      ]
     },
     "execution_count": 17,
     "metadata": {},
     "output_type": "execute_result"
    }
   ],
   "source": [
    "candy_df_wo_win = candy_df.drop(['competitorname','winpercent'], axis=1)\n",
    "model = KMeans()\n",
    "visualizer = KElbowVisualizer(model, k=(1,12)).fit(candy_df_wo_win)\n",
    "visualizer.show()"
   ]
  },
  {
   "cell_type": "markdown",
   "id": "dddb3ee5",
   "metadata": {
    "papermill": {
     "duration": 0.059328,
     "end_time": "2022-01-12T01:13:19.407483",
     "exception": false,
     "start_time": "2022-01-12T01:13:19.348155",
     "status": "completed"
    },
    "tags": []
   },
   "source": [
    "The Elbow method is saying that the optimal number of clusters in the candy data without the win percent column is 4 classes. Therefore in the next step,  apply K-means to our data set with for extracting 3 classes. "
   ]
  },
  {
   "cell_type": "code",
   "execution_count": 18,
   "id": "327594a9",
   "metadata": {
    "execution": {
     "iopub.execute_input": "2022-01-12T01:13:19.531992Z",
     "iopub.status.busy": "2022-01-12T01:13:19.530979Z",
     "iopub.status.idle": "2022-01-12T01:13:19.563522Z",
     "shell.execute_reply": "2022-01-12T01:13:19.564105Z",
     "shell.execute_reply.started": "2022-01-12T00:00:53.884109Z"
    },
    "papermill": {
     "duration": 0.096741,
     "end_time": "2022-01-12T01:13:19.564289",
     "exception": false,
     "start_time": "2022-01-12T01:13:19.467548",
     "status": "completed"
    },
    "tags": []
   },
   "outputs": [],
   "source": [
    "kmeans = KMeans(n_clusters=3, init='k-means++', random_state=0).fit(candy_df_wo_win)"
   ]
  },
  {
   "cell_type": "code",
   "execution_count": 19,
   "id": "722a8ce9",
   "metadata": {
    "execution": {
     "iopub.execute_input": "2022-01-12T01:13:19.691420Z",
     "iopub.status.busy": "2022-01-12T01:13:19.690399Z",
     "iopub.status.idle": "2022-01-12T01:13:19.698284Z",
     "shell.execute_reply": "2022-01-12T01:13:19.697645Z",
     "shell.execute_reply.started": "2022-01-12T00:00:53.924276Z"
    },
    "papermill": {
     "duration": 0.074039,
     "end_time": "2022-01-12T01:13:19.698424",
     "exception": false,
     "start_time": "2022-01-12T01:13:19.624385",
     "status": "completed"
    },
    "tags": []
   },
   "outputs": [
    {
     "data": {
      "text/plain": [
       "cluster\n",
       "0    43.703954\n",
       "1    61.295413\n",
       "2    51.731795\n",
       "Name: winpercent, dtype: float64"
      ]
     },
     "execution_count": 19,
     "metadata": {},
     "output_type": "execute_result"
    }
   ],
   "source": [
    "# Add a column for cluster label\n",
    "candy_df['cluster'] = kmeans.labels_\n",
    "candy_df.groupby([\"cluster\"])[\"winpercent\"].mean()"
   ]
  },
  {
   "cell_type": "markdown",
   "id": "0fe7ebc7",
   "metadata": {
    "papermill": {
     "duration": 0.061069,
     "end_time": "2022-01-12T01:13:19.819796",
     "exception": false,
     "start_time": "2022-01-12T01:13:19.758727",
     "status": "completed"
    },
    "tags": []
   },
   "source": [
    "We applied K-means without win percent, now we can map win percent to each class and see the average win percent of each class"
   ]
  },
  {
   "cell_type": "code",
   "execution_count": 20,
   "id": "dc8c9515",
   "metadata": {
    "execution": {
     "iopub.execute_input": "2022-01-12T01:13:19.979456Z",
     "iopub.status.busy": "2022-01-12T01:13:19.978383Z",
     "iopub.status.idle": "2022-01-12T01:13:20.163373Z",
     "shell.execute_reply": "2022-01-12T01:13:20.163911Z",
     "shell.execute_reply.started": "2022-01-12T00:00:53.936910Z"
    },
    "papermill": {
     "duration": 0.284467,
     "end_time": "2022-01-12T01:13:20.164103",
     "exception": false,
     "start_time": "2022-01-12T01:13:19.879636",
     "status": "completed"
    },
    "tags": []
   },
   "outputs": [
    {
     "name": "stderr",
     "output_type": "stream",
     "text": [
      "/opt/conda/lib/python3.7/site-packages/ipykernel_launcher.py:10: MatplotlibDeprecationWarning: The 'b' parameter of grid() has been renamed 'visible' since Matplotlib 3.5; support for the old name will be dropped two minor releases later.\n",
      "  # Remove the CWD from sys.path while we load stuff.\n"
     ]
    },
    {
     "data": {
      "image/png": "[encoded data removed]",
      "text/plain": [
       "<Figure size 720x432 with 1 Axes>"
      ]
     },
     "metadata": {},
     "output_type": "display_data"
    }
   ],
   "source": [
    "candy_df_clustered = candy_df.groupby([\"cluster\"])[\"winpercent\"].mean()\n",
    "fig = candy_df_clustered.plot.bar(figsize=(10,6))\n",
    "fig.set_title('Average Win Percentage Per Cluster', fontsize=18)\n",
    "fig.set_xlabel('Cluster', fontsize=15)\n",
    "fig.set_ylabel('Win Percentage', fontsize=15)\n",
    "x = [0, 1, 2]    \n",
    "y = [43.7, 61.3, 51.7]\n",
    "for i in range (len (x)):\n",
    "    plt.text(i, y[i], y[i], ha = 'center', va='bottom', fontsize=15, color='blue')\n",
    "plt.grid(b=None)\n",
    "plt.xticks(fontsize=13)\n",
    "plt.show()"
   ]
  },
  {
   "cell_type": "markdown",
   "id": "5ba26af9",
   "metadata": {
    "execution": {
     "iopub.execute_input": "2022-01-09T23:30:47.506908Z",
     "iopub.status.busy": "2022-01-09T23:30:47.506474Z",
     "iopub.status.idle": "2022-01-09T23:30:47.516221Z",
     "shell.execute_reply": "2022-01-09T23:30:47.515088Z",
     "shell.execute_reply.started": "2022-01-09T23:30:47.506877Z"
    },
    "papermill": {
     "duration": 0.061228,
     "end_time": "2022-01-12T01:13:20.287291",
     "exception": false,
     "start_time": "2022-01-12T01:13:20.226063",
     "status": "completed"
    },
    "tags": []
   },
   "source": [
    "As you can see here, entities that are in class 0, have 43.7% as average win percent and the class 1 and 2 has 61.3% and 51.7%, respectively. Therefore if we want to have a new product with a high win percent rate we need to understand the patterns of features in class 1."
   ]
  },
  {
   "cell_type": "markdown",
   "id": "524c62f5",
   "metadata": {
    "papermill": {
     "duration": 0.061866,
     "end_time": "2022-01-12T01:13:20.410656",
     "exception": false,
     "start_time": "2022-01-12T01:13:20.348790",
     "status": "completed"
    },
    "tags": []
   },
   "source": [
    "Now we can extract all entities that are in class 1 and we can calculate the average value of each feature in this class"
   ]
  },
  {
   "cell_type": "code",
   "execution_count": 21,
   "id": "c766d234",
   "metadata": {
    "execution": {
     "iopub.execute_input": "2022-01-12T01:13:20.542609Z",
     "iopub.status.busy": "2022-01-12T01:13:20.541566Z",
     "iopub.status.idle": "2022-01-12T01:13:20.842032Z",
     "shell.execute_reply": "2022-01-12T01:13:20.842530Z",
     "shell.execute_reply.started": "2022-01-12T00:00:54.155135Z"
    },
    "papermill": {
     "duration": 0.370611,
     "end_time": "2022-01-12T01:13:20.842718",
     "exception": false,
     "start_time": "2022-01-12T01:13:20.472107",
     "status": "completed"
    },
    "tags": []
   },
   "outputs": [
    {
     "name": "stderr",
     "output_type": "stream",
     "text": [
      "/opt/conda/lib/python3.7/site-packages/ipykernel_launcher.py:14: MatplotlibDeprecationWarning: The 'b' parameter of grid() has been renamed 'visible' since Matplotlib 3.5; support for the old name will be dropped two minor releases later.\n",
      "  \n"
     ]
    },
    {
     "data": {
      "image/png": "[encoded data removed]",
      "text/plain": [
       "<Figure size 1296x576 with 1 Axes>"
      ]
     },
     "metadata": {},
     "output_type": "display_data"
    }
   ],
   "source": [
    "candy_df_class_1 = candy_df[candy_df['cluster'] == 1]\n",
    "candy_df_class_1 = candy_df_class_1.drop(['competitorname', 'winpercent', 'cluster'], axis=1)\n",
    "candy_df_class_1.mean().sort_values()\n",
    "candy_df_class_1 = candy_df_class_1.reindex(candy_df_class_1.mean().sort_values().index, axis=1)\n",
    "x = candy_df_class_1.columns.tolist()   \n",
    "y = [round(l, 2) for l in candy_df_class_1.mean().tolist()]\n",
    "fig = plt.figure(figsize = (18, 8))\n",
    "plt.bar(x, y, width = 0.4)\n",
    "plt.title('Percentage Of Features in the cluster with the high win percent rate', fontsize=20)\n",
    "plt.xlabel('Candy Caracteristics', fontsize=15)\n",
    "plt.ylabel('Average', fontsize=15)\n",
    "for i in range (len (x)):\n",
    "    plt.text(i, y[i], y[i], ha = 'center', va='bottom', fontsize=15, color='blue')\n",
    "plt.grid(b=None)\n",
    "plt.xticks(fontsize=13, rotation=45)\n",
    "plt.show()"
   ]
  },
  {
   "cell_type": "markdown",
   "id": "e3b08c41",
   "metadata": {
    "papermill": {
     "duration": 0.065415,
     "end_time": "2022-01-12T01:13:20.972465",
     "exception": false,
     "start_time": "2022-01-12T01:13:20.907050",
     "status": "completed"
    },
    "tags": []
   },
   "source": [
    "From the bar plot, we can see that in class 1 which is the highest win percent class, all of the entities have Bar, 95% has Chocolate, price percent is 73%, and sugar percent is 53%, but entities in this class do not have Pluribus, Hard, and Fruity.\n",
    "Peanuts, caramel, nougat, etc have a positive effect, so composite candy should have higher rating.\n",
    "Therefore we can consider this rule:\n",
    "\n",
    "**USE Chocolate in bar form, containing caramel, nougat, peanuts/almonds, crisped rice/wafer & price 73%, sugar 53% & DO NOT USE Pluribus, Hard, and Fruity**\n",
    "\n",
    "**main material:**\n",
    "+ chocolate\n",
    "\n",
    "**additional:**\n",
    "+ caramel\n",
    "+ nougat\n",
    "+ peanuts and almonds\n",
    "+ crisped rice/wafer\n",
    "\n",
    "**form:**\n",
    "+ bar"
   ]
  },
  {
   "cell_type": "markdown",
   "id": "832259c8",
   "metadata": {
    "papermill": {
     "duration": 0.065295,
     "end_time": "2022-01-12T01:13:21.104659",
     "exception": false,
     "start_time": "2022-01-12T01:13:21.039364",
     "status": "completed"
    },
    "tags": []
   },
   "source": [
    "# 3- Predictive Analysis"
   ]
  },
  {
   "cell_type": "markdown",
   "id": "ff73838f",
   "metadata": {
    "papermill": {
     "duration": 0.063506,
     "end_time": "2022-01-12T01:13:21.232078",
     "exception": false,
     "start_time": "2022-01-12T01:13:21.168572",
     "status": "completed"
    },
    "tags": []
   },
   "source": [
    "* A predictive analysis is important if we want to have an idea how much the new candy is accepted or not. It is not perfect but it minimizes the risk of going through development, marketing and production of a new candy.\n",
    "* Clustering gives us patterns of a subset in the data, but we want to see the general behaviors of high win percent products in our dataset. For finding this general pattern, we have to use a regression model.\n",
    "* As our data is not too big, we will apply Random Forest Regressor from sklearn package in python to predict win percent.\n",
    "* For the model evaluation, we will use the root mean squared error as metric. \n",
    "* We will also leverage the Random Forest Regressor model to look at the feature importance. "
   ]
  },
  {
   "cell_type": "code",
   "execution_count": 22,
   "id": "7b44a1f3",
   "metadata": {
    "execution": {
     "iopub.execute_input": "2022-01-12T01:13:21.363643Z",
     "iopub.status.busy": "2022-01-12T01:13:21.363001Z",
     "iopub.status.idle": "2022-01-12T01:13:21.371759Z",
     "shell.execute_reply": "2022-01-12T01:13:21.372267Z",
     "shell.execute_reply.started": "2022-01-12T00:00:54.455744Z"
    },
    "papermill": {
     "duration": 0.076183,
     "end_time": "2022-01-12T01:13:21.372446",
     "exception": false,
     "start_time": "2022-01-12T01:13:21.296263",
     "status": "completed"
    },
    "tags": []
   },
   "outputs": [],
   "source": [
    "candy_df = candy_df.drop(['cluster'], axis=1)\n",
    "# Split the data into training and test sets\n",
    "X_train, X_test, y_train, y_test = train_test_split(candy_df[candy_df.columns[1:-1]],candy_df[candy_df.columns[-1]], test_size=0.3, random_state=42)"
   ]
  },
  {
   "cell_type": "code",
   "execution_count": 23,
   "id": "ad937d5a",
   "metadata": {
    "execution": {
     "iopub.execute_input": "2022-01-12T01:13:21.503254Z",
     "iopub.status.busy": "2022-01-12T01:13:21.502588Z",
     "iopub.status.idle": "2022-01-12T01:14:39.996896Z",
     "shell.execute_reply": "2022-01-12T01:14:39.997388Z",
     "shell.execute_reply.started": "2022-01-12T00:00:54.467992Z"
    },
    "papermill": {
     "duration": 78.561192,
     "end_time": "2022-01-12T01:14:39.997576",
     "exception": false,
     "start_time": "2022-01-12T01:13:21.436384",
     "status": "completed"
    },
    "tags": []
   },
   "outputs": [
    {
     "name": "stderr",
     "output_type": "stream",
     "text": [
      "/opt/conda/lib/python3.7/site-packages/sklearn/model_selection/_search.py:849: FutureWarning: The parameter 'iid' is deprecated in 0.22 and will be removed in 0.24.\n",
      "  \"removed in 0.24.\", FutureWarning\n"
     ]
    },
    {
     "data": {
      "text/plain": [
       "RandomForestRegressor(max_depth=20, min_samples_leaf=6, min_samples_split=12,\n",
       "                      n_estimators=160)"
      ]
     },
     "execution_count": 23,
     "metadata": {},
     "output_type": "execute_result"
    }
   ],
   "source": [
    "# Create a based model\n",
    "clf_rf = RandomForestRegressor()\n",
    "# Hyperparameters Tuning\n",
    "param_grid = {\n",
    "    'max_depth': [10, 15, 20],\n",
    "    'min_samples_leaf': [6, 7, 8, 9],\n",
    "    'min_samples_split': [10, 11, 12, 13],\n",
    "    'n_estimators': [130, 140, 150, 160]\n",
    "}\n",
    "# Instantiate the grid search model\n",
    "grid_search = GridSearchCV(estimator=clf_rf, param_grid=param_grid, n_jobs=4, iid=True, refit=True, cv=4, scoring='r2')\n",
    "# Fit the grid search to the data\n",
    "grid_search.fit(X_train,y_train)\n",
    "grid_search.best_estimator_"
   ]
  },
  {
   "cell_type": "code",
   "execution_count": 24,
   "id": "8527ce2d",
   "metadata": {
    "execution": {
     "iopub.execute_input": "2022-01-12T01:14:40.143440Z",
     "iopub.status.busy": "2022-01-12T01:14:40.142049Z",
     "iopub.status.idle": "2022-01-12T01:14:40.154747Z",
     "shell.execute_reply": "2022-01-12T01:14:40.154222Z",
     "shell.execute_reply.started": "2022-01-12T00:02:11.221655Z"
    },
    "papermill": {
     "duration": 0.091964,
     "end_time": "2022-01-12T01:14:40.154880",
     "exception": false,
     "start_time": "2022-01-12T01:14:40.062916",
     "status": "completed"
    },
    "tags": []
   },
   "outputs": [
    {
     "data": {
      "text/plain": [
       "11.49253655342178"
      ]
     },
     "execution_count": 24,
     "metadata": {},
     "output_type": "execute_result"
    }
   ],
   "source": [
    "clf_rf_best = grid_search.best_estimator_\n",
    "# Perform prediction on the test set & calculate the mean squared error\n",
    "rmse_err = math.sqrt(mean_squared_error(y_test,clf_rf_best.predict(X_test)))\n",
    "rmse_err"
   ]
  },
  {
   "cell_type": "code",
   "execution_count": 25,
   "id": "b132cb72",
   "metadata": {
    "execution": {
     "iopub.execute_input": "2022-01-12T01:14:40.287075Z",
     "iopub.status.busy": "2022-01-12T01:14:40.286432Z",
     "iopub.status.idle": "2022-01-12T01:14:40.302883Z",
     "shell.execute_reply": "2022-01-12T01:14:40.303392Z",
     "shell.execute_reply.started": "2022-01-12T00:02:11.242759Z"
    },
    "papermill": {
     "duration": 0.084193,
     "end_time": "2022-01-12T01:14:40.303585",
     "exception": false,
     "start_time": "2022-01-12T01:14:40.219392",
     "status": "completed"
    },
    "tags": []
   },
   "outputs": [],
   "source": [
    "# Determine feature importance values\n",
    "importances = clf_rf_best.feature_importances_\n",
    "# Sort the feature importance in descending order\n",
    "sorted_indices = np.argsort(importances)[::-1]"
   ]
  },
  {
   "cell_type": "code",
   "execution_count": 26,
   "id": "7e737d58",
   "metadata": {
    "execution": {
     "iopub.execute_input": "2022-01-12T01:14:40.438162Z",
     "iopub.status.busy": "2022-01-12T01:14:40.437477Z",
     "iopub.status.idle": "2022-01-12T01:14:40.711737Z",
     "shell.execute_reply": "2022-01-12T01:14:40.712264Z",
     "shell.execute_reply.started": "2022-01-12T00:02:11.260936Z"
    },
    "papermill": {
     "duration": 0.343352,
     "end_time": "2022-01-12T01:14:40.712434",
     "exception": false,
     "start_time": "2022-01-12T01:14:40.369082",
     "status": "completed"
    },
    "tags": []
   },
   "outputs": [
    {
     "name": "stderr",
     "output_type": "stream",
     "text": [
      "/opt/conda/lib/python3.7/site-packages/ipykernel_launcher.py:6: MatplotlibDeprecationWarning: The 'b' parameter of grid() has been renamed 'visible' since Matplotlib 3.5; support for the old name will be dropped two minor releases later.\n",
      "  \n"
     ]
    },
    {
     "data": {
      "image/png": "[encoded data removed]",
      "text/plain": [
       "<Figure size 576x396 with 1 Axes>"
      ]
     },
     "metadata": {},
     "output_type": "display_data"
    }
   ],
   "source": [
    "# Visualize the feature importance \n",
    "plt.title('Feature Importance', fontsize=20)\n",
    "plt.bar(range(X_train.shape[1]), importances[sorted_indices], align='center')\n",
    "plt.xticks(range(X_train.shape[1]), X_train.columns[sorted_indices], rotation=90)\n",
    "plt.tight_layout()\n",
    "plt.grid(b=None)\n",
    "plt.xticks(fontsize=13)\n",
    "plt.show()"
   ]
  },
  {
   "cell_type": "markdown",
   "id": "ebce0d39",
   "metadata": {
    "papermill": {
     "duration": 0.066828,
     "end_time": "2022-01-12T01:14:40.845848",
     "exception": false,
     "start_time": "2022-01-12T01:14:40.779020",
     "status": "completed"
    },
    "tags": []
   },
   "source": [
    "Overall for predicting the win percent of a new product, Chocolate, Sugar and Price are the most important features."
   ]
  },
  {
   "cell_type": "markdown",
   "id": "be64b206",
   "metadata": {
    "papermill": {
     "duration": 0.07228,
     "end_time": "2022-01-12T01:14:40.985662",
     "exception": false,
     "start_time": "2022-01-12T01:14:40.913382",
     "status": "completed"
    },
    "tags": []
   },
   "source": [
    "## 4 - Summary & Recommendations"
   ]
  },
  {
   "cell_type": "markdown",
   "id": "81ff402b",
   "metadata": {
    "papermill": {
     "duration": 0.066084,
     "end_time": "2022-01-12T01:14:41.118546",
     "exception": false,
     "start_time": "2022-01-12T01:14:41.052462",
     "status": "completed"
    },
    "tags": []
   },
   "source": [
    "### We want to create a brand new candy\n",
    "\n",
    "* We decided to use a data-driven approach.\n",
    "* We collected data on products in the market and their characteristics and customer sentiment.\n",
    "\n",
    "### Through the analysis, our goal is \n",
    "* To understand the rules, patterns, or relations of features with win percent. If we understand these then we can map it to the new product.\n",
    "* To find out which product characteristics drive customer sentiment and subsequently make a recommendation on a new product.\n",
    "* To implement a Machine Learning pipeline to predict the win Percentage of a new candy.\n",
    "\n",
    "### WE CAME UP WITH THE FOLLOWING RECOMMENDATIONS & CONCLUSIONS\n",
    "* Our recommendation is a soft, non-fruity, one-bar candy with chocolate, nougat, caramel, nuts (peanuts, almonds, ..), and some crunch (cookies, waffles, ...). \n",
    "* We need to investigate the shopping patterns of customers (Are they health conscious? Do they buy what they like, or buy cheaper options?)\n",
    "* In the end, we need to combine the findings of this study with our investigations to design candy which people will like and will buy."
   ]
  }
 ],
 "metadata": {
  "kernelspec": {
   "display_name": "Python 3",
   "language": "python",
   "name": "python3"
  },
  "language_info": {
   "codemirror_mode": {
    "name": "ipython",
    "version": 3
   },
   "file_extension": ".py",
   "mimetype": "text/x-python",
   "name": "python",
   "nbconvert_exporter": "python",
   "pygments_lexer": "ipython3",
   "version": "3.7.12"
  },
  "papermill": {
   "default_parameters": {},
   "duration": 119.024923,
   "end_time": "2022-01-12T01:14:42.299579",
   "environment_variables": {},
   "exception": null,
   "input_path": "__notebook__.ipynb",
   "output_path": "__notebook__.ipynb",
   "parameters": {},
   "start_time": "2022-01-12T01:12:43.274656",
   "version": "2.3.3"
  },
  "widgets": {
   "application/vnd.jupyter.widget-state+json": {
    "state": {
     "058d6434d4494d359ad5ff7f5f3ba2ef": {
      "model_module": "@jupyter-widgets/controls",
      "model_module_version": "1.5.0",
      "model_name": "FloatProgressModel",
      "state": {
       "_dom_classes": [],
       "_model_module": "@jupyter-widgets/controls",
       "_model_module_version": "1.5.0",
       "_model_name": "FloatProgressModel",
       "_view_count": null,
       "_view_module": "@jupyter-widgets/controls",
       "_view_module_version": "1.5.0",
       "_view_name": "ProgressView",
       "bar_style": "success",
       "description": "",
       "description_tooltip": null,
       "layout": "IPY_MODEL_e15e40016b0d44a49c1f7833e3dcff6e",
       "max": 26.0,
       "min": 0.0,
       "orientation": "horizontal",
       "style": "IPY_MODEL_f048deb184cf44f5a52d23fede443497",
       "value": 26.0
      }
     },
     "05df07c76a63413abb07564badbca782": {
      "model_module": "@jupyter-widgets/controls",
      "model_module_version": "1.5.0",
      "model_name": "ProgressStyleModel",
      "state": {
       "_model_module": "@jupyter-widgets/controls",
       "_model_module_version": "1.5.0",
       "_model_name": "ProgressStyleModel",
       "_view_count": null,
       "_view_module": "@jupyter-widgets/base",
       "_view_module_version": "1.2.0",
       "_view_name": "StyleView",
       "bar_color": null,
       "description_width": ""
      }
     },
     "069d606a02c74d7ebccb372fb56607bc": {
      "model_module": "@jupyter-widgets/controls",
      "model_module_version": "1.5.0",
      "model_name": "DescriptionStyleModel",
      "state": {
       "_model_module": "@jupyter-widgets/controls",
       "_model_module_version": "1.5.0",
       "_model_name": "DescriptionStyleModel",
       "_view_count": null,
       "_view_module": "@jupyter-widgets/base",
       "_view_module_version": "1.2.0",
       "_view_name": "StyleView",
       "description_width": ""
      }
     },
     "0c6e6b51f1c24be5aaa9feabb7b91855": {
      "model_module": "@jupyter-widgets/base",
      "model_module_version": "1.2.0",
      "model_name": "LayoutModel",
      "state": {
       "_model_module": "@jupyter-widgets/base",
       "_model_module_version": "1.2.0",
       "_model_name": "LayoutModel",
       "_view_count": null,
       "_view_module": "@jupyter-widgets/base",
       "_view_module_version": "1.2.0",
       "_view_name": "LayoutView",
       "align_content": null,
       "align_items": null,
       "align_self": null,
       "border": null,
       "bottom": null,
       "display": null,
       "flex": null,
       "flex_flow": null,
       "grid_area": null,
       "grid_auto_columns": null,
       "grid_auto_flow": null,
       "grid_auto_rows": null,
       "grid_column": null,
       "grid_gap": null,
       "grid_row": null,
       "grid_template_areas": null,
       "grid_template_columns": null,
       "grid_template_rows": null,
       "height": null,
       "justify_content": null,
       "justify_items": null,
       "left": null,
       "margin": null,
       "max_height": null,
       "max_width": null,
       "min_height": null,
       "min_width": null,
       "object_fit": null,
       "object_position": null,
       "order": null,
       "overflow": null,
       "overflow_x": null,
       "overflow_y": null,
       "padding": null,
       "right": null,
       "top": null,
       "visibility": null,
       "width": null
      }
     },
     "0e993674f54f416c878f227ec67a677a": {
      "model_module": "@jupyter-widgets/base",
      "model_module_version": "1.2.0",
      "model_name": "LayoutModel",
      "state": {
       "_model_module": "@jupyter-widgets/base",
       "_model_module_version": "1.2.0",
       "_model_name": "LayoutModel",
       "_view_count": null,
       "_view_module": "@jupyter-widgets/base",
       "_view_module_version": "1.2.0",
       "_view_name": "LayoutView",
       "align_content": null,
       "align_items": null,
       "align_self": null,
       "border": null,
       "bottom": null,
       "display": null,
       "flex": null,
       "flex_flow": null,
       "grid_area": null,
       "grid_auto_columns": null,
       "grid_auto_flow": null,
       "grid_auto_rows": null,
       "grid_column": null,
       "grid_gap": null,
       "grid_row": null,
       "grid_template_areas": null,
       "grid_template_columns": null,
       "grid_template_rows": null,
       "height": null,
       "justify_content": null,
       "justify_items": null,
       "left": null,
       "margin": null,
       "max_height": null,
       "max_width": null,
       "min_height": null,
       "min_width": null,
       "object_fit": null,
       "object_position": null,
       "order": null,
       "overflow": null,
       "overflow_x": null,
       "overflow_y": null,
       "padding": null,
       "right": null,
       "top": null,
       "visibility": null,
       "width": null
      }
     },
     "1009cba4afc34d4e9e9d6c6c0387d40d": {
      "model_module": "@jupyter-widgets/controls",
      "model_module_version": "1.5.0",
      "model_name": "HTMLModel",
      "state": {
       "_dom_classes": [],
       "_model_module": "@jupyter-widgets/controls",
       "_model_module_version": "1.5.0",
       "_model_name": "HTMLModel",
       "_view_count": null,
       "_view_module": "@jupyter-widgets/controls",
       "_view_module_version": "1.5.0",
       "_view_name": "HTMLView",
       "description": "",
       "description_tooltip": null,
       "layout": "IPY_MODEL_33d2f91c17c945aca0f0f24a1416af48",
       "placeholder": "​",
       "style": "IPY_MODEL_6368dd2555d3449eb42ed95d3e6e4251",
       "value": "Render HTML: 100%"
      }
     },
     "18879aa6ea074931841681d7e81401c4": {
      "model_module": "@jupyter-widgets/base",
      "model_module_version": "1.2.0",
      "model_name": "LayoutModel",
      "state": {
       "_model_module": "@jupyter-widgets/base",
       "_model_module_version": "1.2.0",
       "_model_name": "LayoutModel",
       "_view_count": null,
       "_view_module": "@jupyter-widgets/base",
       "_view_module_version": "1.2.0",
       "_view_name": "LayoutView",
       "align_content": null,
       "align_items": null,
       "align_self": null,
       "border": null,
       "bottom": null,
       "display": null,
       "flex": null,
       "flex_flow": null,
       "grid_area": null,
       "grid_auto_columns": null,
       "grid_auto_flow": null,
       "grid_auto_rows": null,
       "grid_column": null,
       "grid_gap": null,
       "grid_row": null,
       "grid_template_areas": null,
       "grid_template_columns": null,
       "grid_template_rows": null,
       "height": null,
       "justify_content": null,
       "justify_items": null,
       "left": null,
       "margin": null,
       "max_height": null,
       "max_width": null,
       "min_height": null,
       "min_width": null,
       "object_fit": null,
       "object_position": null,
       "order": null,
       "overflow": null,
       "overflow_x": null,
       "overflow_y": null,
       "padding": null,
       "right": null,
       "top": null,
       "visibility": null,
       "width": null
      }
     },
     "1a2aedb9bd2d490891bebec5903844e0": {
      "model_module": "@jupyter-widgets/controls",
      "model_module_version": "1.5.0",
      "model_name": "FloatProgressModel",
      "state": {
       "_dom_classes": [],
       "_model_module": "@jupyter-widgets/controls",
       "_model_module_version": "1.5.0",
       "_model_name": "FloatProgressModel",
       "_view_count": null,
       "_view_module": "@jupyter-widgets/controls",
       "_view_module_version": "1.5.0",
       "_view_name": "ProgressView",
       "bar_style": "success",
       "description": "",
       "description_tooltip": null,
       "layout": "IPY_MODEL_f8ca8ff8e9674b3dacc870c2416fc37d",
       "max": 1.0,
       "min": 0.0,
       "orientation": "horizontal",
       "style": "IPY_MODEL_b3932aef0dcc40ba9e5fe2543c5511e3",
       "value": 1.0
      }
     },
     "1a57c028af9e4ac2b32e93c1c8bbc0de": {
      "model_module": "@jupyter-widgets/controls",
      "model_module_version": "1.5.0",
      "model_name": "HTMLModel",
      "state": {
       "_dom_classes": [],
       "_model_module": "@jupyter-widgets/controls",
       "_model_module_version": "1.5.0",
       "_model_name": "HTMLModel",
       "_view_count": null,
       "_view_module": "@jupyter-widgets/controls",
       "_view_module_version": "1.5.0",
       "_view_name": "HTMLView",
       "description": "",
       "description_tooltip": null,
       "layout": "IPY_MODEL_27cb779952c34abb875bb5dcd7153b4d",
       "placeholder": "​",
       "style": "IPY_MODEL_86421b3fde4e41ad9b00dcb9d7f47e28",
       "value": "Export report to file: 100%"
      }
     },
     "1aa6f1ce7fab472ca8eb5441a7a7efd0": {
      "model_module": "@jupyter-widgets/controls",
      "model_module_version": "1.5.0",
      "model_name": "HBoxModel",
      "state": {
       "_dom_classes": [],
       "_model_module": "@jupyter-widgets/controls",
       "_model_module_version": "1.5.0",
       "_model_name": "HBoxModel",
       "_view_count": null,
       "_view_module": "@jupyter-widgets/controls",
       "_view_module_version": "1.5.0",
       "_view_name": "HBoxView",
       "box_style": "",
       "children": [
        "IPY_MODEL_4710243b21154ca0a5db3ef37332a837",
        "IPY_MODEL_058d6434d4494d359ad5ff7f5f3ba2ef",
        "IPY_MODEL_27c2c2bc93d44786b805274ad1f5d85c"
       ],
       "layout": "IPY_MODEL_58830ff070904ab4931a31c0d5524eda"
      }
     },
     "22a0278cd6264c9d99e0b2a2bf5949cb": {
      "model_module": "@jupyter-widgets/controls",
      "model_module_version": "1.5.0",
      "model_name": "DescriptionStyleModel",
      "state": {
       "_model_module": "@jupyter-widgets/controls",
       "_model_module_version": "1.5.0",
       "_model_name": "DescriptionStyleModel",
       "_view_count": null,
       "_view_module": "@jupyter-widgets/base",
       "_view_module_version": "1.2.0",
       "_view_name": "StyleView",
       "description_width": ""
      }
     },
     "233ef21749684e048d34251b1d25511b": {
      "model_module": "@jupyter-widgets/controls",
      "model_module_version": "1.5.0",
      "model_name": "HBoxModel",
      "state": {
       "_dom_classes": [],
       "_model_module": "@jupyter-widgets/controls",
       "_model_module_version": "1.5.0",
       "_model_name": "HBoxModel",
       "_view_count": null,
       "_view_module": "@jupyter-widgets/controls",
       "_view_module_version": "1.5.0",
       "_view_name": "HBoxView",
       "box_style": "",
       "children": [
        "IPY_MODEL_5d99e18659ab456da685d6ee153a5cb5",
        "IPY_MODEL_fe6f5a9fa58541e9b479b9128f405754",
        "IPY_MODEL_284b454112104534bfed4e16ea294771"
       ],
       "layout": "IPY_MODEL_0c6e6b51f1c24be5aaa9feabb7b91855"
      }
     },
     "27c2c2bc93d44786b805274ad1f5d85c": {
      "model_module": "@jupyter-widgets/controls",
      "model_module_version": "1.5.0",
      "model_name": "HTMLModel",
      "state": {
       "_dom_classes": [],
       "_model_module": "@jupyter-widgets/controls",
       "_model_module_version": "1.5.0",
       "_model_name": "HTMLModel",
       "_view_count": null,
       "_view_module": "@jupyter-widgets/controls",
       "_view_module_version": "1.5.0",
       "_view_name": "HTMLView",
       "description": "",
       "description_tooltip": null,
       "layout": "IPY_MODEL_db260f4617c64aa0a9c9541cc1395ba5",
       "placeholder": "​",
       "style": "IPY_MODEL_4d7488407e344b0ebbb067e7b5f43401",
       "value": " 26/26 [00:05&lt;00:00,  3.83it/s, Completed]"
      }
     },
     "27cb779952c34abb875bb5dcd7153b4d": {
      "model_module": "@jupyter-widgets/base",
      "model_module_version": "1.2.0",
      "model_name": "LayoutModel",
      "state": {
       "_model_module": "@jupyter-widgets/base",
       "_model_module_version": "1.2.0",
       "_model_name": "LayoutModel",
       "_view_count": null,
       "_view_module": "@jupyter-widgets/base",
       "_view_module_version": "1.2.0",
       "_view_name": "LayoutView",
       "align_content": null,
       "align_items": null,
       "align_self": null,
       "border": null,
       "bottom": null,
       "display": null,
       "flex": null,
       "flex_flow": null,
       "grid_area": null,
       "grid_auto_columns": null,
       "grid_auto_flow": null,
       "grid_auto_rows": null,
       "grid_column": null,
       "grid_gap": null,
       "grid_row": null,
       "grid_template_areas": null,
       "grid_template_columns": null,
       "grid_template_rows": null,
       "height": null,
       "justify_content": null,
       "justify_items": null,
       "left": null,
       "margin": null,
       "max_height": null,
       "max_width": null,
       "min_height": null,
       "min_width": null,
       "object_fit": null,
       "object_position": null,
       "order": null,
       "overflow": null,
       "overflow_x": null,
       "overflow_y": null,
       "padding": null,
       "right": null,
       "top": null,
       "visibility": null,
       "width": null
      }
     },
     "284b454112104534bfed4e16ea294771": {
      "model_module": "@jupyter-widgets/controls",
      "model_module_version": "1.5.0",
      "model_name": "HTMLModel",
      "state": {
       "_dom_classes": [],
       "_model_module": "@jupyter-widgets/controls",
       "_model_module_version": "1.5.0",
       "_model_name": "HTMLModel",
       "_view_count": null,
       "_view_module": "@jupyter-widgets/controls",
       "_view_module_version": "1.5.0",
       "_view_name": "HTMLView",
       "description": "",
       "description_tooltip": null,
       "layout": "IPY_MODEL_9a513e423e5148a1b3fbf2d035713b57",
       "placeholder": "​",
       "style": "IPY_MODEL_8c2d8b96762e486ca5d1d1cfeb3e06ad",
       "value": " 1/1 [00:07&lt;00:00,  7.85s/it]"
      }
     },
     "29b57bb0ed2041958f05c9bbd35691d3": {
      "model_module": "@jupyter-widgets/controls",
      "model_module_version": "1.5.0",
      "model_name": "HTMLModel",
      "state": {
       "_dom_classes": [],
       "_model_module": "@jupyter-widgets/controls",
       "_model_module_version": "1.5.0",
       "_model_name": "HTMLModel",
       "_view_count": null,
       "_view_module": "@jupyter-widgets/controls",
       "_view_module_version": "1.5.0",
       "_view_name": "HTMLView",
       "description": "",
       "description_tooltip": null,
       "layout": "IPY_MODEL_18879aa6ea074931841681d7e81401c4",
       "placeholder": "​",
       "style": "IPY_MODEL_80a604bf5b204542b1c86e28f6664480",
       "value": " 1/1 [00:01&lt;00:00,  1.04s/it]"
      }
     },
     "33d2f91c17c945aca0f0f24a1416af48": {
      "model_module": "@jupyter-widgets/base",
      "model_module_version": "1.2.0",
      "model_name": "LayoutModel",
      "state": {
       "_model_module": "@jupyter-widgets/base",
       "_model_module_version": "1.2.0",
       "_model_name": "LayoutModel",
       "_view_count": null,
       "_view_module": "@jupyter-widgets/base",
       "_view_module_version": "1.2.0",
       "_view_name": "LayoutView",
       "align_content": null,
       "align_items": null,
       "align_self": null,
       "border": null,
       "bottom": null,
       "display": null,
       "flex": null,
       "flex_flow": null,
       "grid_area": null,
       "grid_auto_columns": null,
       "grid_auto_flow": null,
       "grid_auto_rows": null,
       "grid_column": null,
       "grid_gap": null,
       "grid_row": null,
       "grid_template_areas": null,
       "grid_template_columns": null,
       "grid_template_rows": null,
       "height": null,
       "justify_content": null,
       "justify_items": null,
       "left": null,
       "margin": null,
       "max_height": null,
       "max_width": null,
       "min_height": null,
       "min_width": null,
       "object_fit": null,
       "object_position": null,
       "order": null,
       "overflow": null,
       "overflow_x": null,
       "overflow_y": null,
       "padding": null,
       "right": null,
       "top": null,
       "visibility": null,
       "width": null
      }
     },
     "3f38256dfa3347a3a4f464a7f246fddf": {
      "model_module": "@jupyter-widgets/controls",
      "model_module_version": "1.5.0",
      "model_name": "HBoxModel",
      "state": {
       "_dom_classes": [],
       "_model_module": "@jupyter-widgets/controls",
       "_model_module_version": "1.5.0",
       "_model_name": "HBoxModel",
       "_view_count": null,
       "_view_module": "@jupyter-widgets/controls",
       "_view_module_version": "1.5.0",
       "_view_name": "HBoxView",
       "box_style": "",
       "children": [
        "IPY_MODEL_1a57c028af9e4ac2b32e93c1c8bbc0de",
        "IPY_MODEL_e37a9834a5f8459198023f7d2c3a3bca",
        "IPY_MODEL_6ede617b003c455083c63574ccf3c97d"
       ],
       "layout": "IPY_MODEL_0e993674f54f416c878f227ec67a677a"
      }
     },
     "4710243b21154ca0a5db3ef37332a837": {
      "model_module": "@jupyter-widgets/controls",
      "model_module_version": "1.5.0",
      "model_name": "HTMLModel",
      "state": {
       "_dom_classes": [],
       "_model_module": "@jupyter-widgets/controls",
       "_model_module_version": "1.5.0",
       "_model_name": "HTMLModel",
       "_view_count": null,
       "_view_module": "@jupyter-widgets/controls",
       "_view_module_version": "1.5.0",
       "_view_name": "HTMLView",
       "description": "",
       "description_tooltip": null,
       "layout": "IPY_MODEL_fa4b4982cbf9487986a28a7de7b1ed99",
       "placeholder": "​",
       "style": "IPY_MODEL_f3ae06e886c04207ba6ccf27049133bd",
       "value": "Summarize dataset: 100%"
      }
     },
     "49b910d12b0d41f3b0976ced128e5b8d": {
      "model_module": "@jupyter-widgets/controls",
      "model_module_version": "1.5.0",
      "model_name": "ProgressStyleModel",
      "state": {
       "_model_module": "@jupyter-widgets/controls",
       "_model_module_version": "1.5.0",
       "_model_name": "ProgressStyleModel",
       "_view_count": null,
       "_view_module": "@jupyter-widgets/base",
       "_view_module_version": "1.2.0",
       "_view_name": "StyleView",
       "bar_color": null,
       "description_width": ""
      }
     },
     "4d7488407e344b0ebbb067e7b5f43401": {
      "model_module": "@jupyter-widgets/controls",
      "model_module_version": "1.5.0",
      "model_name": "DescriptionStyleModel",
      "state": {
       "_model_module": "@jupyter-widgets/controls",
       "_model_module_version": "1.5.0",
       "_model_name": "DescriptionStyleModel",
       "_view_count": null,
       "_view_module": "@jupyter-widgets/base",
       "_view_module_version": "1.2.0",
       "_view_name": "StyleView",
       "description_width": ""
      }
     },
     "58830ff070904ab4931a31c0d5524eda": {
      "model_module": "@jupyter-widgets/base",
      "model_module_version": "1.2.0",
      "model_name": "LayoutModel",
      "state": {
       "_model_module": "@jupyter-widgets/base",
       "_model_module_version": "1.2.0",
       "_model_name": "LayoutModel",
       "_view_count": null,
       "_view_module": "@jupyter-widgets/base",
       "_view_module_version": "1.2.0",
       "_view_name": "LayoutView",
       "align_content": null,
       "align_items": null,
       "align_self": null,
       "border": null,
       "bottom": null,
       "display": null,
       "flex": null,
       "flex_flow": null,
       "grid_area": null,
       "grid_auto_columns": null,
       "grid_auto_flow": null,
       "grid_auto_rows": null,
       "grid_column": null,
       "grid_gap": null,
       "grid_row": null,
       "grid_template_areas": null,
       "grid_template_columns": null,
       "grid_template_rows": null,
       "height": null,
       "justify_content": null,
       "justify_items": null,
       "left": null,
       "margin": null,
       "max_height": null,
       "max_width": null,
       "min_height": null,
       "min_width": null,
       "object_fit": null,
       "object_position": null,
       "order": null,
       "overflow": null,
       "overflow_x": null,
       "overflow_y": null,
       "padding": null,
       "right": null,
       "top": null,
       "visibility": null,
       "width": null
      }
     },
     "5d99e18659ab456da685d6ee153a5cb5": {
      "model_module": "@jupyter-widgets/controls",
      "model_module_version": "1.5.0",
      "model_name": "HTMLModel",
      "state": {
       "_dom_classes": [],
       "_model_module": "@jupyter-widgets/controls",
       "_model_module_version": "1.5.0",
       "_model_name": "HTMLModel",
       "_view_count": null,
       "_view_module": "@jupyter-widgets/controls",
       "_view_module_version": "1.5.0",
       "_view_name": "HTMLView",
       "description": "",
       "description_tooltip": null,
       "layout": "IPY_MODEL_78b21d5b76024dbeb448f0300f1000d2",
       "placeholder": "​",
       "style": "IPY_MODEL_22a0278cd6264c9d99e0b2a2bf5949cb",
       "value": "Generate report structure: 100%"
      }
     },
     "6368dd2555d3449eb42ed95d3e6e4251": {
      "model_module": "@jupyter-widgets/controls",
      "model_module_version": "1.5.0",
      "model_name": "DescriptionStyleModel",
      "state": {
       "_model_module": "@jupyter-widgets/controls",
       "_model_module_version": "1.5.0",
       "_model_name": "DescriptionStyleModel",
       "_view_count": null,
       "_view_module": "@jupyter-widgets/base",
       "_view_module_version": "1.2.0",
       "_view_name": "StyleView",
       "description_width": ""
      }
     },
     "6bdeb7adda6d4d3d86673a9dc6993319": {
      "model_module": "@jupyter-widgets/base",
      "model_module_version": "1.2.0",
      "model_name": "LayoutModel",
      "state": {
       "_model_module": "@jupyter-widgets/base",
       "_model_module_version": "1.2.0",
       "_model_name": "LayoutModel",
       "_view_count": null,
       "_view_module": "@jupyter-widgets/base",
       "_view_module_version": "1.2.0",
       "_view_name": "LayoutView",
       "align_content": null,
       "align_items": null,
       "align_self": null,
       "border": null,
       "bottom": null,
       "display": null,
       "flex": null,
       "flex_flow": null,
       "grid_area": null,
       "grid_auto_columns": null,
       "grid_auto_flow": null,
       "grid_auto_rows": null,
       "grid_column": null,
       "grid_gap": null,
       "grid_row": null,
       "grid_template_areas": null,
       "grid_template_columns": null,
       "grid_template_rows": null,
       "height": null,
       "justify_content": null,
       "justify_items": null,
       "left": null,
       "margin": null,
       "max_height": null,
       "max_width": null,
       "min_height": null,
       "min_width": null,
       "object_fit": null,
       "object_position": null,
       "order": null,
       "overflow": null,
       "overflow_x": null,
       "overflow_y": null,
       "padding": null,
       "right": null,
       "top": null,
       "visibility": null,
       "width": null
      }
     },
     "6ede617b003c455083c63574ccf3c97d": {
      "model_module": "@jupyter-widgets/controls",
      "model_module_version": "1.5.0",
      "model_name": "HTMLModel",
      "state": {
       "_dom_classes": [],
       "_model_module": "@jupyter-widgets/controls",
       "_model_module_version": "1.5.0",
       "_model_name": "HTMLModel",
       "_view_count": null,
       "_view_module": "@jupyter-widgets/controls",
       "_view_module_version": "1.5.0",
       "_view_name": "HTMLView",
       "description": "",
       "description_tooltip": null,
       "layout": "IPY_MODEL_9ae7a4da79b94e5d9bb3a1c846ce813c",
       "placeholder": "​",
       "style": "IPY_MODEL_069d606a02c74d7ebccb372fb56607bc",
       "value": " 1/1 [00:00&lt;00:00, 33.26it/s]"
      }
     },
     "78b21d5b76024dbeb448f0300f1000d2": {
      "model_module": "@jupyter-widgets/base",
      "model_module_version": "1.2.0",
      "model_name": "LayoutModel",
      "state": {
       "_model_module": "@jupyter-widgets/base",
       "_model_module_version": "1.2.0",
       "_model_name": "LayoutModel",
       "_view_count": null,
       "_view_module": "@jupyter-widgets/base",
       "_view_module_version": "1.2.0",
       "_view_name": "LayoutView",
       "align_content": null,
       "align_items": null,
       "align_self": null,
       "border": null,
       "bottom": null,
       "display": null,
       "flex": null,
       "flex_flow": null,
       "grid_area": null,
       "grid_auto_columns": null,
       "grid_auto_flow": null,
       "grid_auto_rows": null,
       "grid_column": null,
       "grid_gap": null,
       "grid_row": null,
       "grid_template_areas": null,
       "grid_template_columns": null,
       "grid_template_rows": null,
       "height": null,
       "justify_content": null,
       "justify_items": null,
       "left": null,
       "margin": null,
       "max_height": null,
       "max_width": null,
       "min_height": null,
       "min_width": null,
       "object_fit": null,
       "object_position": null,
       "order": null,
       "overflow": null,
       "overflow_x": null,
       "overflow_y": null,
       "padding": null,
       "right": null,
       "top": null,
       "visibility": null,
       "width": null
      }
     },
     "80a604bf5b204542b1c86e28f6664480": {
      "model_module": "@jupyter-widgets/controls",
      "model_module_version": "1.5.0",
      "model_name": "DescriptionStyleModel",
      "state": {
       "_model_module": "@jupyter-widgets/controls",
       "_model_module_version": "1.5.0",
       "_model_name": "DescriptionStyleModel",
       "_view_count": null,
       "_view_module": "@jupyter-widgets/base",
       "_view_module_version": "1.2.0",
       "_view_name": "StyleView",
       "description_width": ""
      }
     },
     "86421b3fde4e41ad9b00dcb9d7f47e28": {
      "model_module": "@jupyter-widgets/controls",
      "model_module_version": "1.5.0",
      "model_name": "DescriptionStyleModel",
      "state": {
       "_model_module": "@jupyter-widgets/controls",
       "_model_module_version": "1.5.0",
       "_model_name": "DescriptionStyleModel",
       "_view_count": null,
       "_view_module": "@jupyter-widgets/base",
       "_view_module_version": "1.2.0",
       "_view_name": "StyleView",
       "description_width": ""
      }
     },
     "8c2d8b96762e486ca5d1d1cfeb3e06ad": {
      "model_module": "@jupyter-widgets/controls",
      "model_module_version": "1.5.0",
      "model_name": "DescriptionStyleModel",
      "state": {
       "_model_module": "@jupyter-widgets/controls",
       "_model_module_version": "1.5.0",
       "_model_name": "DescriptionStyleModel",
       "_view_count": null,
       "_view_module": "@jupyter-widgets/base",
       "_view_module_version": "1.2.0",
       "_view_name": "StyleView",
       "description_width": ""
      }
     },
     "9a513e423e5148a1b3fbf2d035713b57": {
      "model_module": "@jupyter-widgets/base",
      "model_module_version": "1.2.0",
      "model_name": "LayoutModel",
      "state": {
       "_model_module": "@jupyter-widgets/base",
       "_model_module_version": "1.2.0",
       "_model_name": "LayoutModel",
       "_view_count": null,
       "_view_module": "@jupyter-widgets/base",
       "_view_module_version": "1.2.0",
       "_view_name": "LayoutView",
       "align_content": null,
       "align_items": null,
       "align_self": null,
       "border": null,
       "bottom": null,
       "display": null,
       "flex": null,
       "flex_flow": null,
       "grid_area": null,
       "grid_auto_columns": null,
       "grid_auto_flow": null,
       "grid_auto_rows": null,
       "grid_column": null,
       "grid_gap": null,
       "grid_row": null,
       "grid_template_areas": null,
       "grid_template_columns": null,
       "grid_template_rows": null,
       "height": null,
       "justify_content": null,
       "justify_items": null,
       "left": null,
       "margin": null,
       "max_height": null,
       "max_width": null,
       "min_height": null,
       "min_width": null,
       "object_fit": null,
       "object_position": null,
       "order": null,
       "overflow": null,
       "overflow_x": null,
       "overflow_y": null,
       "padding": null,
       "right": null,
       "top": null,
       "visibility": null,
       "width": null
      }
     },
     "9ae7a4da79b94e5d9bb3a1c846ce813c": {
      "model_module": "@jupyter-widgets/base",
      "model_module_version": "1.2.0",
      "model_name": "LayoutModel",
      "state": {
       "_model_module": "@jupyter-widgets/base",
       "_model_module_version": "1.2.0",
       "_model_name": "LayoutModel",
       "_view_count": null,
       "_view_module": "@jupyter-widgets/base",
       "_view_module_version": "1.2.0",
       "_view_name": "LayoutView",
       "align_content": null,
       "align_items": null,
       "align_self": null,
       "border": null,
       "bottom": null,
       "display": null,
       "flex": null,
       "flex_flow": null,
       "grid_area": null,
       "grid_auto_columns": null,
       "grid_auto_flow": null,
       "grid_auto_rows": null,
       "grid_column": null,
       "grid_gap": null,
       "grid_row": null,
       "grid_template_areas": null,
       "grid_template_columns": null,
       "grid_template_rows": null,
       "height": null,
       "justify_content": null,
       "justify_items": null,
       "left": null,
       "margin": null,
       "max_height": null,
       "max_width": null,
       "min_height": null,
       "min_width": null,
       "object_fit": null,
       "object_position": null,
       "order": null,
       "overflow": null,
       "overflow_x": null,
       "overflow_y": null,
       "padding": null,
       "right": null,
       "top": null,
       "visibility": null,
       "width": null
      }
     },
     "b3932aef0dcc40ba9e5fe2543c5511e3": {
      "model_module": "@jupyter-widgets/controls",
      "model_module_version": "1.5.0",
      "model_name": "ProgressStyleModel",
      "state": {
       "_model_module": "@jupyter-widgets/controls",
       "_model_module_version": "1.5.0",
       "_model_name": "ProgressStyleModel",
       "_view_count": null,
       "_view_module": "@jupyter-widgets/base",
       "_view_module_version": "1.2.0",
       "_view_name": "StyleView",
       "bar_color": null,
       "description_width": ""
      }
     },
     "c53ec242f946494682f02c866fa90ff1": {
      "model_module": "@jupyter-widgets/base",
      "model_module_version": "1.2.0",
      "model_name": "LayoutModel",
      "state": {
       "_model_module": "@jupyter-widgets/base",
       "_model_module_version": "1.2.0",
       "_model_name": "LayoutModel",
       "_view_count": null,
       "_view_module": "@jupyter-widgets/base",
       "_view_module_version": "1.2.0",
       "_view_name": "LayoutView",
       "align_content": null,
       "align_items": null,
       "align_self": null,
       "border": null,
       "bottom": null,
       "display": null,
       "flex": null,
       "flex_flow": null,
       "grid_area": null,
       "grid_auto_columns": null,
       "grid_auto_flow": null,
       "grid_auto_rows": null,
       "grid_column": null,
       "grid_gap": null,
       "grid_row": null,
       "grid_template_areas": null,
       "grid_template_columns": null,
       "grid_template_rows": null,
       "height": null,
       "justify_content": null,
       "justify_items": null,
       "left": null,
       "margin": null,
       "max_height": null,
       "max_width": null,
       "min_height": null,
       "min_width": null,
       "object_fit": null,
       "object_position": null,
       "order": null,
       "overflow": null,
       "overflow_x": null,
       "overflow_y": null,
       "padding": null,
       "right": null,
       "top": null,
       "visibility": null,
       "width": null
      }
     },
     "db260f4617c64aa0a9c9541cc1395ba5": {
      "model_module": "@jupyter-widgets/base",
      "model_module_version": "1.2.0",
      "model_name": "LayoutModel",
      "state": {
       "_model_module": "@jupyter-widgets/base",
       "_model_module_version": "1.2.0",
       "_model_name": "LayoutModel",
       "_view_count": null,
       "_view_module": "@jupyter-widgets/base",
       "_view_module_version": "1.2.0",
       "_view_name": "LayoutView",
       "align_content": null,
       "align_items": null,
       "align_self": null,
       "border": null,
       "bottom": null,
       "display": null,
       "flex": null,
       "flex_flow": null,
       "grid_area": null,
       "grid_auto_columns": null,
       "grid_auto_flow": null,
       "grid_auto_rows": null,
       "grid_column": null,
       "grid_gap": null,
       "grid_row": null,
       "grid_template_areas": null,
       "grid_template_columns": null,
       "grid_template_rows": null,
       "height": null,
       "justify_content": null,
       "justify_items": null,
       "left": null,
       "margin": null,
       "max_height": null,
       "max_width": null,
       "min_height": null,
       "min_width": null,
       "object_fit": null,
       "object_position": null,
       "order": null,
       "overflow": null,
       "overflow_x": null,
       "overflow_y": null,
       "padding": null,
       "right": null,
       "top": null,
       "visibility": null,
       "width": null
      }
     },
     "e15e40016b0d44a49c1f7833e3dcff6e": {
      "model_module": "@jupyter-widgets/base",
      "model_module_version": "1.2.0",
      "model_name": "LayoutModel",
      "state": {
       "_model_module": "@jupyter-widgets/base",
       "_model_module_version": "1.2.0",
       "_model_name": "LayoutModel",
       "_view_count": null,
       "_view_module": "@jupyter-widgets/base",
       "_view_module_version": "1.2.0",
       "_view_name": "LayoutView",
       "align_content": null,
       "align_items": null,
       "align_self": null,
       "border": null,
       "bottom": null,
       "display": null,
       "flex": null,
       "flex_flow": null,
       "grid_area": null,
       "grid_auto_columns": null,
       "grid_auto_flow": null,
       "grid_auto_rows": null,
       "grid_column": null,
       "grid_gap": null,
       "grid_row": null,
       "grid_template_areas": null,
       "grid_template_columns": null,
       "grid_template_rows": null,
       "height": null,
       "justify_content": null,
       "justify_items": null,
       "left": null,
       "margin": null,
       "max_height": null,
       "max_width": null,
       "min_height": null,
       "min_width": null,
       "object_fit": null,
       "object_position": null,
       "order": null,
       "overflow": null,
       "overflow_x": null,
       "overflow_y": null,
       "padding": null,
       "right": null,
       "top": null,
       "visibility": null,
       "width": null
      }
     },
     "e221b0a08fbf44529c8c2a398b4e29f2": {
      "model_module": "@jupyter-widgets/base",
      "model_module_version": "1.2.0",
      "model_name": "LayoutModel",
      "state": {
       "_model_module": "@jupyter-widgets/base",
       "_model_module_version": "1.2.0",
       "_model_name": "LayoutModel",
       "_view_count": null,
       "_view_module": "@jupyter-widgets/base",
       "_view_module_version": "1.2.0",
       "_view_name": "LayoutView",
       "align_content": null,
       "align_items": null,
       "align_self": null,
       "border": null,
       "bottom": null,
       "display": null,
       "flex": null,
       "flex_flow": null,
       "grid_area": null,
       "grid_auto_columns": null,
       "grid_auto_flow": null,
       "grid_auto_rows": null,
       "grid_column": null,
       "grid_gap": null,
       "grid_row": null,
       "grid_template_areas": null,
       "grid_template_columns": null,
       "grid_template_rows": null,
       "height": null,
       "justify_content": null,
       "justify_items": null,
       "left": null,
       "margin": null,
       "max_height": null,
       "max_width": null,
       "min_height": null,
       "min_width": null,
       "object_fit": null,
       "object_position": null,
       "order": null,
       "overflow": null,
       "overflow_x": null,
       "overflow_y": null,
       "padding": null,
       "right": null,
       "top": null,
       "visibility": null,
       "width": null
      }
     },
     "e37a9834a5f8459198023f7d2c3a3bca": {
      "model_module": "@jupyter-widgets/controls",
      "model_module_version": "1.5.0",
      "model_name": "FloatProgressModel",
      "state": {
       "_dom_classes": [],
       "_model_module": "@jupyter-widgets/controls",
       "_model_module_version": "1.5.0",
       "_model_name": "FloatProgressModel",
       "_view_count": null,
       "_view_module": "@jupyter-widgets/controls",
       "_view_module_version": "1.5.0",
       "_view_name": "ProgressView",
       "bar_style": "success",
       "description": "",
       "description_tooltip": null,
       "layout": "IPY_MODEL_e221b0a08fbf44529c8c2a398b4e29f2",
       "max": 1.0,
       "min": 0.0,
       "orientation": "horizontal",
       "style": "IPY_MODEL_49b910d12b0d41f3b0976ced128e5b8d",
       "value": 1.0
      }
     },
     "f048deb184cf44f5a52d23fede443497": {
      "model_module": "@jupyter-widgets/controls",
      "model_module_version": "1.5.0",
      "model_name": "ProgressStyleModel",
      "state": {
       "_model_module": "@jupyter-widgets/controls",
       "_model_module_version": "1.5.0",
       "_model_name": "ProgressStyleModel",
       "_view_count": null,
       "_view_module": "@jupyter-widgets/base",
       "_view_module_version": "1.2.0",
       "_view_name": "StyleView",
       "bar_color": null,
       "description_width": ""
      }
     },
     "f228ebe6a9d4496797dc67d6bcd99850": {
      "model_module": "@jupyter-widgets/controls",
      "model_module_version": "1.5.0",
      "model_name": "HBoxModel",
      "state": {
       "_dom_classes": [],
       "_model_module": "@jupyter-widgets/controls",
       "_model_module_version": "1.5.0",
       "_model_name": "HBoxModel",
       "_view_count": null,
       "_view_module": "@jupyter-widgets/controls",
       "_view_module_version": "1.5.0",
       "_view_name": "HBoxView",
       "box_style": "",
       "children": [
        "IPY_MODEL_1009cba4afc34d4e9e9d6c6c0387d40d",
        "IPY_MODEL_1a2aedb9bd2d490891bebec5903844e0",
        "IPY_MODEL_29b57bb0ed2041958f05c9bbd35691d3"
       ],
       "layout": "IPY_MODEL_c53ec242f946494682f02c866fa90ff1"
      }
     },
     "f3ae06e886c04207ba6ccf27049133bd": {
      "model_module": "@jupyter-widgets/controls",
      "model_module_version": "1.5.0",
      "model_name": "DescriptionStyleModel",
      "state": {
       "_model_module": "@jupyter-widgets/controls",
       "_model_module_version": "1.5.0",
       "_model_name": "DescriptionStyleModel",
       "_view_count": null,
       "_view_module": "@jupyter-widgets/base",
       "_view_module_version": "1.2.0",
       "_view_name": "StyleView",
       "description_width": ""
      }
     },
     "f8ca8ff8e9674b3dacc870c2416fc37d": {
      "model_module": "@jupyter-widgets/base",
      "model_module_version": "1.2.0",
      "model_name": "LayoutModel",
      "state": {
       "_model_module": "@jupyter-widgets/base",
       "_model_module_version": "1.2.0",
       "_model_name": "LayoutModel",
       "_view_count": null,
       "_view_module": "@jupyter-widgets/base",
       "_view_module_version": "1.2.0",
       "_view_name": "LayoutView",
       "align_content": null,
       "align_items": null,
       "align_self": null,
       "border": null,
       "bottom": null,
       "display": null,
       "flex": null,
       "flex_flow": null,
       "grid_area": null,
       "grid_auto_columns": null,
       "grid_auto_flow": null,
       "grid_auto_rows": null,
       "grid_column": null,
       "grid_gap": null,
       "grid_row": null,
       "grid_template_areas": null,
       "grid_template_columns": null,
       "grid_template_rows": null,
       "height": null,
       "justify_content": null,
       "justify_items": null,
       "left": null,
       "margin": null,
       "max_height": null,
       "max_width": null,
       "min_height": null,
       "min_width": null,
       "object_fit": null,
       "object_position": null,
       "order": null,
       "overflow": null,
       "overflow_x": null,
       "overflow_y": null,
       "padding": null,
       "right": null,
       "top": null,
       "visibility": null,
       "width": null
      }
     },
     "fa4b4982cbf9487986a28a7de7b1ed99": {
      "model_module": "@jupyter-widgets/base",
      "model_module_version": "1.2.0",
      "model_name": "LayoutModel",
      "state": {
       "_model_module": "@jupyter-widgets/base",
       "_model_module_version": "1.2.0",
       "_model_name": "LayoutModel",
       "_view_count": null,
       "_view_module": "@jupyter-widgets/base",
       "_view_module_version": "1.2.0",
       "_view_name": "LayoutView",
       "align_content": null,
       "align_items": null,
       "align_self": null,
       "border": null,
       "bottom": null,
       "display": null,
       "flex": null,
       "flex_flow": null,
       "grid_area": null,
       "grid_auto_columns": null,
       "grid_auto_flow": null,
       "grid_auto_rows": null,
       "grid_column": null,
       "grid_gap": null,
       "grid_row": null,
       "grid_template_areas": null,
       "grid_template_columns": null,
       "grid_template_rows": null,
       "height": null,
       "justify_content": null,
       "justify_items": null,
       "left": null,
       "margin": null,
       "max_height": null,
       "max_width": null,
       "min_height": null,
       "min_width": null,
       "object_fit": null,
       "object_position": null,
       "order": null,
       "overflow": null,
       "overflow_x": null,
       "overflow_y": null,
       "padding": null,
       "right": null,
       "top": null,
       "visibility": null,
       "width": null
      }
     },
     "fe6f5a9fa58541e9b479b9128f405754": {
      "model_module": "@jupyter-widgets/controls",
      "model_module_version": "1.5.0",
      "model_name": "FloatProgressModel",
      "state": {
       "_dom_classes": [],
       "_model_module": "@jupyter-widgets/controls",
       "_model_module_version": "1.5.0",
       "_model_name": "FloatProgressModel",
       "_view_count": null,
       "_view_module": "@jupyter-widgets/controls",
       "_view_module_version": "1.5.0",
       "_view_name": "ProgressView",
       "bar_style": "success",
       "description": "",
       "description_tooltip": null,
       "layout": "IPY_MODEL_6bdeb7adda6d4d3d86673a9dc6993319",
       "max": 1.0,
       "min": 0.0,
       "orientation": "horizontal",
       "style": "IPY_MODEL_05df07c76a63413abb07564badbca782",
       "value": 1.0
      }
     }
    },
    "version_major": 2,
    "version_minor": 0
   }
  }
 },
 "nbformat": 4,
 "nbformat_minor": 5
}
