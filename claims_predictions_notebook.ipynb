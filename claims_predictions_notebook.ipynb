{
 "cells": [
  {
   "cell_type": "code",
   "execution_count": 1,
   "metadata": {
    "_cell_guid": "b1076dfc-b9ad-4769-8c92-a6c4dae69d19",
    "_uuid": "8f2839f25d086af736a60e9eeb907d3b93b6e0e5",
    "execution": {
     "iopub.execute_input": "2021-12-10T00:02:59.753306Z",
     "iopub.status.busy": "2021-12-10T00:02:59.752865Z",
     "iopub.status.idle": "2021-12-10T00:02:59.761723Z",
     "shell.execute_reply": "2021-12-10T00:02:59.761072Z",
     "shell.execute_reply.started": "2021-12-10T00:02:59.753266Z"
    }
   },
   "outputs": [],
   "source": [
    "# Import required modules\n",
    "import pandas as pd\n",
    "from pandas_profiling import ProfileReport\n",
    "import numpy as np\n",
    "from sklearn.model_selection import train_test_split\n",
    "from sklearn.linear_model import LogisticRegression\n",
    "from sklearn.tree import DecisionTreeClassifier\n",
    "from xgboost import XGBClassifier\n",
    "from sklearn.ensemble import RandomForestClassifier\n",
    "from sklearn import metrics\n",
    "from sklearn.model_selection import GridSearchCV, RandomizedSearchCV\n",
    "import matplotlib.pyplot as plt\n",
    "import seaborn as sns\n",
    "%matplotlib inline"
   ]
  },
  {
   "cell_type": "code",
   "execution_count": 2,
   "metadata": {
    "execution": {
     "iopub.execute_input": "2021-12-10T00:02:59.763446Z",
     "iopub.status.busy": "2021-12-10T00:02:59.762924Z",
     "iopub.status.idle": "2021-12-10T00:02:59.838417Z",
     "shell.execute_reply": "2021-12-10T00:02:59.837557Z",
     "shell.execute_reply.started": "2021-12-10T00:02:59.763411Z"
    }
   },
   "outputs": [],
   "source": [
    "# Import train and test datasets\n",
    "train_df = pd.read_csv('train_auto.csv')\n",
    "test_df  = pd.read_csv('test_auto.csv')"
   ]
  },
  {
   "cell_type": "markdown",
   "metadata": {},
   "source": [
    "### 1- Data Exploration"
   ]
  },
  {
   "cell_type": "markdown",
   "metadata": {},
   "source": [
    "#### See the HTML file data_exploration_report"
   ]
  },
  {
   "cell_type": "code",
   "execution_count": 3,
   "metadata": {
    "execution": {
     "iopub.execute_input": "2021-12-10T00:02:59.840530Z",
     "iopub.status.busy": "2021-12-10T00:02:59.839662Z",
     "iopub.status.idle": "2021-12-10T00:03:41.734084Z",
     "shell.execute_reply": "2021-12-10T00:03:41.733099Z",
     "shell.execute_reply.started": "2021-12-10T00:02:59.840483Z"
    },
    "scrolled": true
   },
   "outputs": [
    {
     "data": {
      "application/vnd.jupyter.widget-view+json": {
       "model_id": "16af9984331b4076a17714d4d2562663",
       "version_major": 2,
       "version_minor": 0
      },
      "text/plain": [
       "HBox(children=(FloatProgress(value=0.0, description='variables', max=26.0, style=ProgressStyle(description_wid…"
      ]
     },
     "metadata": {},
     "output_type": "display_data"
    },
    {
     "name": "stdout",
     "output_type": "stream",
     "text": [
      "\n"
     ]
    },
    {
     "data": {
      "application/vnd.jupyter.widget-view+json": {
       "model_id": "549d0ae8fb864bf3bc576beee68848ce",
       "version_major": 2,
       "version_minor": 0
      },
      "text/plain": [
       "HBox(children=(FloatProgress(value=0.0, description='correlations', max=6.0, style=ProgressStyle(description_w…"
      ]
     },
     "metadata": {},
     "output_type": "display_data"
    },
    {
     "name": "stdout",
     "output_type": "stream",
     "text": [
      "\n"
     ]
    },
    {
     "data": {
      "application/vnd.jupyter.widget-view+json": {
       "model_id": "0a6df2ce8641401dbeabef7aeb2dfde9",
       "version_major": 2,
       "version_minor": 0
      },
      "text/plain": [
       "HBox(children=(FloatProgress(value=0.0, description='interactions [continuous]', max=121.0, style=ProgressStyl…"
      ]
     },
     "metadata": {},
     "output_type": "display_data"
    },
    {
     "name": "stdout",
     "output_type": "stream",
     "text": [
      "\n"
     ]
    },
    {
     "data": {
      "application/vnd.jupyter.widget-view+json": {
       "model_id": "e84ea89cdc944b50b49b5d324d5217cf",
       "version_major": 2,
       "version_minor": 0
      },
      "text/plain": [
       "HBox(children=(FloatProgress(value=0.0, description='table', max=1.0, style=ProgressStyle(description_width='i…"
      ]
     },
     "metadata": {},
     "output_type": "display_data"
    },
    {
     "name": "stdout",
     "output_type": "stream",
     "text": [
      "\n"
     ]
    },
    {
     "data": {
      "application/vnd.jupyter.widget-view+json": {
       "model_id": "eba428a3500d4fc4bd9a839e60dda87c",
       "version_major": 2,
       "version_minor": 0
      },
      "text/plain": [
       "HBox(children=(FloatProgress(value=0.0, description='missing', max=4.0, style=ProgressStyle(description_width=…"
      ]
     },
     "metadata": {},
     "output_type": "display_data"
    },
    {
     "name": "stdout",
     "output_type": "stream",
     "text": [
      "\n"
     ]
    },
    {
     "data": {
      "application/vnd.jupyter.widget-view+json": {
       "model_id": "58b78e9da31b4901bd3b8453c284256c",
       "version_major": 2,
       "version_minor": 0
      },
      "text/plain": [
       "HBox(children=(FloatProgress(value=0.0, description='warnings', max=3.0, style=ProgressStyle(description_width…"
      ]
     },
     "metadata": {},
     "output_type": "display_data"
    },
    {
     "name": "stdout",
     "output_type": "stream",
     "text": [
      "\n"
     ]
    },
    {
     "data": {
      "application/vnd.jupyter.widget-view+json": {
       "model_id": "d5367d6553434e6892a12d90245cdb75",
       "version_major": 2,
       "version_minor": 0
      },
      "text/plain": [
       "HBox(children=(FloatProgress(value=0.0, description='package', max=1.0, style=ProgressStyle(description_width=…"
      ]
     },
     "metadata": {},
     "output_type": "display_data"
    },
    {
     "name": "stdout",
     "output_type": "stream",
     "text": [
      "\n"
     ]
    },
    {
     "data": {
      "application/vnd.jupyter.widget-view+json": {
       "model_id": "ddb818b340804924a7169b7af49a4803",
       "version_major": 2,
       "version_minor": 0
      },
      "text/plain": [
       "HBox(children=(FloatProgress(value=0.0, description='build report structure', max=1.0, style=ProgressStyle(des…"
      ]
     },
     "metadata": {},
     "output_type": "display_data"
    },
    {
     "name": "stdout",
     "output_type": "stream",
     "text": [
      "\n"
     ]
    }
   ],
   "source": [
    "# Generate Report Using Pandas Profiling (Variables types,descriptions and distributions, missing values, correlations, ...)\n",
    "train_data_profile = ProfileReport(train_df)\n",
    "# Save profile to an HTML\n",
    "train_data_profile.to_file(\"data_exploration_report.html\")"
   ]
  },
  {
   "cell_type": "markdown",
   "metadata": {},
   "source": [
    "### 2- Data Wrangling / Cleaning"
   ]
  },
  {
   "cell_type": "code",
   "execution_count": 4,
   "metadata": {
    "execution": {
     "iopub.execute_input": "2021-12-10T00:03:41.736624Z",
     "iopub.status.busy": "2021-12-10T00:03:41.736267Z",
     "iopub.status.idle": "2021-12-10T00:03:41.748693Z",
     "shell.execute_reply": "2021-12-10T00:03:41.747739Z",
     "shell.execute_reply.started": "2021-12-10T00:03:41.736560Z"
    }
   },
   "outputs": [],
   "source": [
    "# Remove unneeded columns\n",
    "# The target amount is supposed to be among the target variables, so we will remove it.\n",
    "# The home value is not supposed to have an impact on the car expected claims.\n",
    "# Owning a red car means having higher premiums is a myth with no research or statistics to back it up.\n",
    "# Having a red car will not have any effect on any part of the insurance. Thus we will remove this column.\n",
    "\n",
    "to_drop = ['INDEX', \n",
    "           'TARGET_AMT',\n",
    "           'HOME_VAL',\n",
    "           'RED_CAR']\n",
    "train_df.drop(to_drop, inplace=True, axis=1)\n",
    "test_df.drop(to_drop, inplace=True, axis=1)"
   ]
  },
  {
   "cell_type": "code",
   "execution_count": 5,
   "metadata": {
    "execution": {
     "iopub.execute_input": "2021-12-10T00:03:41.750406Z",
     "iopub.status.busy": "2021-12-10T00:03:41.750136Z",
     "iopub.status.idle": "2021-12-10T00:03:42.205386Z",
     "shell.execute_reply": "2021-12-10T00:03:42.204468Z",
     "shell.execute_reply.started": "2021-12-10T00:03:41.750371Z"
    }
   },
   "outputs": [],
   "source": [
    "# Fix structural errors\n",
    "# Remove the '$' and ',' symbols from the amount values in the columns 'INCOME','BLUEBOOK' and 'OLDCLAIM' supposed to be numerical.\n",
    "train_df[['INCOME', 'BLUEBOOK', 'OLDCLAIM']] = train_df[['INCOME', 'BLUEBOOK', 'OLDCLAIM']].replace({'\\$': '', ',': ''}, regex=True).astype(float)\n",
    "test_df[['INCOME', 'BLUEBOOK', 'OLDCLAIM']] = test_df[['INCOME', 'BLUEBOOK', 'OLDCLAIM']].replace({'\\$': '', ',': ''}, regex=True).astype(float)\n",
    "\n",
    "# Remove the '<' symbol from the 'EDUCATION' column\n",
    "train_df['EDUCATION'] = train_df['EDUCATION'].replace({'<': 'lower than '}, regex=True)\n",
    "test_df['EDUCATION'] = test_df['EDUCATION'].replace({'<': 'lower than '}, regex=True)\n",
    "\n",
    "# Remove 'z_' from the categorical columns\n",
    "CAT_COL = ['PARENT1','MSTATUS', 'SEX', 'EDUCATION', 'JOB', 'CAR_USE', 'CAR_TYPE', 'REVOKED', 'URBANICITY']\n",
    "train_df[CAT_COL] = train_df[CAT_COL].replace({'z_': ''}, regex=True)\n",
    "test_df[CAT_COL]  = test_df[CAT_COL].replace({'z_': ''}, regex=True)"
   ]
  },
  {
   "cell_type": "code",
   "execution_count": 6,
   "metadata": {
    "execution": {
     "iopub.execute_input": "2021-12-10T00:03:42.206744Z",
     "iopub.status.busy": "2021-12-10T00:03:42.206517Z",
     "iopub.status.idle": "2021-12-10T00:03:42.243691Z",
     "shell.execute_reply": "2021-12-10T00:03:42.242627Z",
     "shell.execute_reply.started": "2021-12-10T00:03:42.206715Z"
    }
   },
   "outputs": [],
   "source": [
    "# Remove missing values\n",
    "# We have a small percentage of missing cells (1.1% in total) for the following columns (see pandas profiling report above for details) : \n",
    "                # AGE (0.7%)\n",
    "                # YOJ (0.3%)\n",
    "                # INCOME (5.5%)\n",
    "                # JOB (4.6%)\n",
    "                # CAR_AGE (6.2%)\n",
    "# We will use the median imputation and use the train median of columns to impute both train and test missing values.\n",
    "train_df = train_df.fillna(train_df.median())\n",
    "test_df  = test_df.fillna(train_df.median())"
   ]
  },
  {
   "cell_type": "markdown",
   "metadata": {
    "execution": {
     "iopub.execute_input": "2021-12-08T00:34:29.223746Z",
     "iopub.status.busy": "2021-12-08T00:34:29.223428Z",
     "iopub.status.idle": "2021-12-08T00:34:29.228338Z",
     "shell.execute_reply": "2021-12-08T00:34:29.227235Z",
     "shell.execute_reply.started": "2021-12-08T00:34:29.223712Z"
    }
   },
   "source": [
    "### 3- Feature Engineering"
   ]
  },
  {
   "cell_type": "code",
   "execution_count": 7,
   "metadata": {
    "execution": {
     "iopub.execute_input": "2021-12-10T00:03:42.245524Z",
     "iopub.status.busy": "2021-12-10T00:03:42.245168Z",
     "iopub.status.idle": "2021-12-10T00:03:42.258066Z",
     "shell.execute_reply": "2021-12-10T00:03:42.257265Z",
     "shell.execute_reply.started": "2021-12-10T00:03:42.245483Z"
    }
   },
   "outputs": [],
   "source": [
    "# Log transform of the INCOME column\n",
    "# This transformation will help to handle skewed data and decreases the impact of the outliers.\n",
    "train_df['LOG_INCOME'] = (train_df['INCOME'] + 1).transform(np.log)\n",
    "train_df.drop(['INCOME'], inplace=True, axis=1)\n",
    "test_df['LOG_INCOME']  = (test_df['INCOME'] + 1).transform(np.log)\n",
    "test_df.drop(['INCOME'], inplace=True, axis=1)"
   ]
  },
  {
   "cell_type": "code",
   "execution_count": 8,
   "metadata": {
    "execution": {
     "iopub.execute_input": "2021-12-10T00:03:42.259709Z",
     "iopub.status.busy": "2021-12-10T00:03:42.259445Z",
     "iopub.status.idle": "2021-12-10T00:03:42.297626Z",
     "shell.execute_reply": "2021-12-10T00:03:42.296772Z",
     "shell.execute_reply.started": "2021-12-10T00:03:42.259679Z"
    }
   },
   "outputs": [],
   "source": [
    "# One hot encoding for categorical variables\n",
    "train_df = pd.get_dummies(train_df)\n",
    "test_df  = pd.get_dummies(test_df)"
   ]
  },
  {
   "cell_type": "markdown",
   "metadata": {},
   "source": [
    "### 4- Modeling"
   ]
  },
  {
   "cell_type": "markdown",
   "metadata": {},
   "source": [
    "##### - The prediction of the claims is intended to predict if the insured will file a claim or not. TARGET_FLAG = {0,1} is our target, with 0,1 being categorical values that reflect that the client ‘will not file a claim’ or ‘will file a claim’, respectively.\n",
    "##### - The purpose of our machine learning model is to predict the probability of claim occurrence. This algorithm is modeled on data representing a customer that has made a claim or not made a claim. Therefore, the problem can be identified as a binary classification, where a claim is a 1 and no claim made is a 0.\n",
    "##### - Different classification algorithms can be used in our case. We will test Logistic regression, Decision Tree, XGBoost and Random Forest in order to find the one with better performance. Grid searches will be conducted to find hyper-parameters that would yield optimal performance for the models\n",
    "##### - Though, it is important to mention that our data is imbalanced with a mild degree (not very problematic). Majority Class is class 0 with no claims (74%), minority class is class 1 with claims (26%) We will first try training on the true distribution. If the model works well and generalizes, we're done! If not, we will try the downsampling or upweighting technique."
   ]
  },
  {
   "cell_type": "code",
   "execution_count": 9,
   "metadata": {
    "execution": {
     "iopub.execute_input": "2021-12-10T00:03:42.300213Z",
     "iopub.status.busy": "2021-12-10T00:03:42.299977Z",
     "iopub.status.idle": "2021-12-10T00:03:42.308522Z",
     "shell.execute_reply": "2021-12-10T00:03:42.307851Z",
     "shell.execute_reply.started": "2021-12-10T00:03:42.300185Z"
    }
   },
   "outputs": [],
   "source": [
    "# Split train and test datasets into features and target variable\n",
    "X = train_df.drop(['TARGET_FLAG'], axis=1)# Features\n",
    "y = train_df.TARGET_FLAG # Target variable\n",
    "\n",
    "X_test = test_df.drop(['TARGET_FLAG'], axis=1)# Features\n",
    "y_test = test_df.TARGET_FLAG # Target variable"
   ]
  },
  {
   "cell_type": "code",
   "execution_count": 10,
   "metadata": {
    "execution": {
     "iopub.execute_input": "2021-12-10T00:03:42.309838Z",
     "iopub.status.busy": "2021-12-10T00:03:42.309575Z",
     "iopub.status.idle": "2021-12-10T00:03:42.319764Z",
     "shell.execute_reply": "2021-12-10T00:03:42.318946Z",
     "shell.execute_reply.started": "2021-12-10T00:03:42.309811Z"
    }
   },
   "outputs": [],
   "source": [
    "# Split X and y into training and evaluation sets\n",
    "X_train,X_eval,y_train,y_eval=train_test_split(X,y,test_size=0.25,random_state=0)"
   ]
  },
  {
   "cell_type": "markdown",
   "metadata": {},
   "source": [
    "#### 4.1- Logistic Regression"
   ]
  },
  {
   "cell_type": "markdown",
   "metadata": {},
   "source": [
    "##### For the binary-dependent variables, logistic regression (LR) is a suitable model for evaluating regression. LR is a statistical analysis used to describe how a binary target variable is connected to various independent features."
   ]
  },
  {
   "cell_type": "code",
   "execution_count": 11,
   "metadata": {
    "execution": {
     "iopub.execute_input": "2021-12-10T00:03:42.321014Z",
     "iopub.status.busy": "2021-12-10T00:03:42.320768Z",
     "iopub.status.idle": "2021-12-10T00:03:42.415197Z",
     "shell.execute_reply": "2021-12-10T00:03:42.414297Z",
     "shell.execute_reply.started": "2021-12-10T00:03:42.320986Z"
    }
   },
   "outputs": [],
   "source": [
    "# Instantiate the model(using the default parameters)\n",
    "logreg = LogisticRegression(solver='liblinear')\n",
    "# Fit the model with data\n",
    "logreg.fit(X_train,y_train)\n",
    "# Perform prediction on the eval set\n",
    "y_pred_logreg=logreg.predict(X_eval)"
   ]
  },
  {
   "cell_type": "markdown",
   "metadata": {},
   "source": [
    "#### 4.2- Decision Tree"
   ]
  },
  {
   "cell_type": "markdown",
   "metadata": {},
   "source": [
    "##### A decision tree is a supervised learning approach used to solve classification and regression issues, but it is mostly used to solve classification issues. It is a classifier organized by the tree structure, where the internal nodes are the data variables, the branches are the decision rules, and each node is the output."
   ]
  },
  {
   "cell_type": "code",
   "execution_count": 12,
   "metadata": {
    "execution": {
     "iopub.execute_input": "2021-12-10T00:03:42.417459Z",
     "iopub.status.busy": "2021-12-10T00:03:42.416601Z",
     "iopub.status.idle": "2021-12-10T00:03:42.422657Z",
     "shell.execute_reply": "2021-12-10T00:03:42.421597Z",
     "shell.execute_reply.started": "2021-12-10T00:03:42.417407Z"
    }
   },
   "outputs": [],
   "source": [
    "# Create Decision Tree classifer object\n",
    "clf = DecisionTreeClassifier()"
   ]
  },
  {
   "cell_type": "code",
   "execution_count": 13,
   "metadata": {
    "execution": {
     "iopub.execute_input": "2021-12-10T00:03:42.425753Z",
     "iopub.status.busy": "2021-12-10T00:03:42.425039Z",
     "iopub.status.idle": "2021-12-10T00:03:45.507560Z",
     "shell.execute_reply": "2021-12-10T00:03:45.506746Z",
     "shell.execute_reply.started": "2021-12-10T00:03:42.425687Z"
    }
   },
   "outputs": [
    {
     "name": "stdout",
     "output_type": "stream",
     "text": [
      "Fitting 4 folds for each of 50 candidates, totalling 200 fits\n"
     ]
    },
    {
     "name": "stderr",
     "output_type": "stream",
     "text": [
      "[Parallel(n_jobs=-1)]: Using backend LokyBackend with 8 concurrent workers.\n",
      "[Parallel(n_jobs=-1)]: Done  56 tasks      | elapsed:    0.6s\n",
      "[Parallel(n_jobs=-1)]: Done 200 out of 200 | elapsed:    1.8s finished\n"
     ]
    },
    {
     "data": {
      "text/plain": [
       "DecisionTreeClassifier(ccp_alpha=0.0, class_weight=None, criterion='entropy',\n",
       "                       max_depth=5, max_features=None, max_leaf_nodes=None,\n",
       "                       min_impurity_decrease=0.0, min_impurity_split=None,\n",
       "                       min_samples_leaf=50, min_samples_split=2,\n",
       "                       min_weight_fraction_leaf=0.0, presort='deprecated',\n",
       "                       random_state=None, splitter='best')"
      ]
     },
     "execution_count": 13,
     "metadata": {},
     "output_type": "execute_result"
    }
   ],
   "source": [
    "# Hyperparameters Tuning\n",
    "# Create the parameter grid based on the results of random search \n",
    "param_grid = {\n",
    "    'max_depth': [2, 3, 5, 10, 20],\n",
    "    'min_samples_leaf': [5, 10, 20, 50, 100],\n",
    "    'criterion': [\"gini\", \"entropy\"]\n",
    "}\n",
    "# Instantiate the grid search model\n",
    "grid_search = GridSearchCV(estimator=clf, \n",
    "                           param_grid=param_grid, \n",
    "                           cv=4, n_jobs=-1, verbose=1, scoring = \"accuracy\")\n",
    "# Train Decision Tree Classifer\n",
    "grid_search.fit(X_train, y_train)\n",
    "grid_search.best_estimator_"
   ]
  },
  {
   "cell_type": "code",
   "execution_count": 14,
   "metadata": {
    "execution": {
     "iopub.execute_input": "2021-12-10T00:03:45.509215Z",
     "iopub.status.busy": "2021-12-10T00:03:45.508963Z",
     "iopub.status.idle": "2021-12-10T00:03:45.515404Z",
     "shell.execute_reply": "2021-12-10T00:03:45.514801Z",
     "shell.execute_reply.started": "2021-12-10T00:03:45.509182Z"
    }
   },
   "outputs": [],
   "source": [
    "clf_best = grid_search.best_estimator_\n",
    "# Perform prediction on the eval set\n",
    "y_pred_clf_best = clf_best.predict(X_eval)"
   ]
  },
  {
   "cell_type": "markdown",
   "metadata": {},
   "source": [
    "#### 4.3- XGBoost"
   ]
  },
  {
   "cell_type": "markdown",
   "metadata": {},
   "source": [
    "##### XGBoost is a novel approach proposed to raise the gradient tree. It uses various decision trees to predict a result. XGBoost stands for extreme gradient boosting. A regression and classification problem learning technique optimizes a series of weak prediction models to construct a precise and accurate predictor. It is a desirable model, because it can boost weak learners. Furthermore, it can improve the insurance risk classifier’s performance by combining multiple models. Some studies showed that the XGBoost model is the best model for the prediction of claims occurrence with a small dataset (Pesantez-Narvaez et al. 2019)."
   ]
  },
  {
   "cell_type": "code",
   "execution_count": 15,
   "metadata": {
    "execution": {
     "iopub.execute_input": "2021-12-10T00:03:45.517000Z",
     "iopub.status.busy": "2021-12-10T00:03:45.516377Z",
     "iopub.status.idle": "2021-12-10T00:03:45.528353Z",
     "shell.execute_reply": "2021-12-10T00:03:45.527513Z",
     "shell.execute_reply.started": "2021-12-10T00:03:45.516951Z"
    }
   },
   "outputs": [],
   "source": [
    "# Instantiate an XGBoost classifier object\n",
    "xgb = XGBClassifier(learning_rate=0.02, n_estimators=600, objective='binary:logistic', nthread=1)"
   ]
  },
  {
   "cell_type": "code",
   "execution_count": 16,
   "metadata": {
    "execution": {
     "iopub.execute_input": "2021-12-10T00:03:45.529739Z",
     "iopub.status.busy": "2021-12-10T00:03:45.529519Z",
     "iopub.status.idle": "2021-12-10T00:07:03.917034Z",
     "shell.execute_reply": "2021-12-10T00:07:03.916136Z",
     "shell.execute_reply.started": "2021-12-10T00:03:45.529711Z"
    }
   },
   "outputs": [
    {
     "name": "stdout",
     "output_type": "stream",
     "text": [
      "Fitting 4 folds for each of 24 candidates, totalling 96 fits\n"
     ]
    },
    {
     "name": "stderr",
     "output_type": "stream",
     "text": [
      "[Parallel(n_jobs=-1)]: Using backend LokyBackend with 8 concurrent workers.\n",
      "[Parallel(n_jobs=-1)]: Done  34 tasks      | elapsed:   30.0s\n",
      "[Parallel(n_jobs=-1)]: Done  96 out of  96 | elapsed:  1.5min finished\n"
     ]
    },
    {
     "data": {
      "text/plain": [
       "XGBClassifier(base_score=0.5, booster=None, colsample_bylevel=1,\n",
       "              colsample_bynode=1, colsample_bytree=0.6, gamma=0, gpu_id=-1,\n",
       "              importance_type='gain', interaction_constraints=None,\n",
       "              learning_rate=0.02, max_delta_step=0, max_depth=3,\n",
       "              min_child_weight=3, missing=nan, monotone_constraints=None,\n",
       "              n_estimators=600, n_jobs=1, nthread=1, num_parallel_tree=1,\n",
       "              objective='binary:logistic', random_state=0, reg_alpha=0,\n",
       "              reg_lambda=1, scale_pos_weight=1, subsample=0.6, tree_method=None,\n",
       "              validate_parameters=False, verbosity=None)"
      ]
     },
     "execution_count": 16,
     "metadata": {},
     "output_type": "execute_result"
    }
   ],
   "source": [
    "# Hyperparameters Tuning\n",
    "# A parameter grid for XGBoost\n",
    "param_grid = {\n",
    "        'min_child_weight': [1, 3],\n",
    "        'subsample': [0.6, 1.0],\n",
    "        'colsample_bytree': [0.6, 1.0],\n",
    "        'max_depth': [3, 4, 5]\n",
    "        }\n",
    "# Instantiate the grid search model\n",
    "grid_search = GridSearchCV(estimator = xgb,\n",
    "                           param_grid = param_grid,                        \n",
    "                           cv = 4,\n",
    "                           n_jobs = -1,\n",
    "                           verbose = 1)\n",
    "# Fit the grid search to the data\n",
    "grid_search.fit(X_train,y_train)\n",
    "grid_search.best_estimator_"
   ]
  },
  {
   "cell_type": "code",
   "execution_count": 17,
   "metadata": {
    "execution": {
     "iopub.execute_input": "2021-12-10T00:07:03.919380Z",
     "iopub.status.busy": "2021-12-10T00:07:03.918531Z",
     "iopub.status.idle": "2021-12-10T00:07:03.944423Z",
     "shell.execute_reply": "2021-12-10T00:07:03.943746Z",
     "shell.execute_reply.started": "2021-12-10T00:07:03.919316Z"
    }
   },
   "outputs": [],
   "source": [
    "xgb_best = grid_search.best_estimator_\n",
    "# Perform prediction on the eval set\n",
    "y_pred_xgb_best = xgb_best.predict(X_eval)"
   ]
  },
  {
   "cell_type": "markdown",
   "metadata": {},
   "source": [
    "#### 4.4- Random Forests"
   ]
  },
  {
   "cell_type": "markdown",
   "metadata": {},
   "source": [
    "##### Random forests reflect a shift to the bagged decision trees that create a broad number of de-correlated trees so that predictive efficiency can be improved further. They are a very popular“off-the-shelf” learning algorithm with good predictive performance and relatively few hyper-parameters."
   ]
  },
  {
   "cell_type": "code",
   "execution_count": 18,
   "metadata": {
    "execution": {
     "iopub.execute_input": "2021-12-10T00:07:03.945795Z",
     "iopub.status.busy": "2021-12-10T00:07:03.945607Z",
     "iopub.status.idle": "2021-12-10T00:07:03.949187Z",
     "shell.execute_reply": "2021-12-10T00:07:03.948449Z",
     "shell.execute_reply.started": "2021-12-10T00:07:03.945764Z"
    }
   },
   "outputs": [],
   "source": [
    "# Create a based model\n",
    "rfc=RandomForestClassifier()"
   ]
  },
  {
   "cell_type": "code",
   "execution_count": 19,
   "metadata": {
    "execution": {
     "iopub.execute_input": "2021-12-10T00:07:03.950490Z",
     "iopub.status.busy": "2021-12-10T00:07:03.950262Z",
     "iopub.status.idle": "2021-12-10T00:07:08.566560Z",
     "shell.execute_reply": "2021-12-10T00:07:08.565696Z",
     "shell.execute_reply.started": "2021-12-10T00:07:03.950463Z"
    },
    "jupyter": {
     "outputs_hidden": true
    }
   },
   "outputs": [
    {
     "name": "stdout",
     "output_type": "stream",
     "text": [
      "Fitting 3 folds for each of 24 candidates, totalling 72 fits\n"
     ]
    },
    {
     "name": "stderr",
     "output_type": "stream",
     "text": [
      "[Parallel(n_jobs=-1)]: Using backend LokyBackend with 8 concurrent workers.\n",
      "[Parallel(n_jobs=-1)]: Done  34 tasks      | elapsed:    1.9s\n",
      "[Parallel(n_jobs=-1)]: Done  57 out of  72 | elapsed:    3.2s remaining:    0.8s\n",
      "[Parallel(n_jobs=-1)]: Done  72 out of  72 | elapsed:    4.1s finished\n"
     ]
    },
    {
     "data": {
      "text/plain": [
       "RandomForestClassifier(bootstrap=False, ccp_alpha=0.0, class_weight=None,\n",
       "                       criterion='gini', max_depth=50, max_features=5,\n",
       "                       max_leaf_nodes=None, max_samples=None,\n",
       "                       min_impurity_decrease=0.0, min_impurity_split=None,\n",
       "                       min_samples_leaf=1, min_samples_split=2,\n",
       "                       min_weight_fraction_leaf=0.0, n_estimators=25,\n",
       "                       n_jobs=None, oob_score=False, random_state=None,\n",
       "                       verbose=0, warm_start=False)"
      ]
     },
     "execution_count": 19,
     "metadata": {},
     "output_type": "execute_result"
    }
   ],
   "source": [
    "# Hyperparameters Tuning\n",
    "# Create the parameter grid based on the results of random search \n",
    "param_grid = [\n",
    "{'n_estimators': [10, 25], 'max_features': [5, 10], \n",
    " 'max_depth': [10, 50, None], 'bootstrap': [True, False]}\n",
    "]\n",
    "# Instantiate the grid search model\n",
    "grid_search = GridSearchCV(estimator = rfc, param_grid = param_grid, \n",
    "                          cv = 3, n_jobs = -1, verbose = 2)\n",
    "# Fit the grid search to the data\n",
    "grid_search.fit(X_train,y_train)\n",
    "grid_search.best_estimator_"
   ]
  },
  {
   "cell_type": "code",
   "execution_count": 20,
   "metadata": {
    "execution": {
     "iopub.execute_input": "2021-12-10T00:07:08.567764Z",
     "iopub.status.busy": "2021-12-10T00:07:08.567539Z",
     "iopub.status.idle": "2021-12-10T00:07:08.587639Z",
     "shell.execute_reply": "2021-12-10T00:07:08.586873Z",
     "shell.execute_reply.started": "2021-12-10T00:07:08.567738Z"
    }
   },
   "outputs": [],
   "source": [
    "rfc_best = grid_search.best_estimator_\n",
    "# Perform prediction on the eval set\n",
    "y_pred_rfc_best = rfc_best.predict(X_eval)"
   ]
  },
  {
   "cell_type": "markdown",
   "metadata": {},
   "source": [
    "### 5- Models Evaluation (Performance Prediction )"
   ]
  },
  {
   "cell_type": "markdown",
   "metadata": {},
   "source": [
    "##### There are several metrics to evaluate a classifier model and examine how well the model fits a dataset and its performance on the unseen data.\n",
    "##### Accuracy alone for a classification problem cannot always be reliable, because it can provide bias for a majority class giving high accuracy and weak accuracy for the minority class, making it less informative for predictions, especially in the case of imbalanced data.\n",
    "##### Car insurance claims are an excellent example of imbalanced data, because the majority of policyholders do not make a claim. Therefore, if accuracy is used, there would be a bias toward a no claim class. \n",
    "##### Thus, we will use other measures, such confusion matrix, precision, recall, F1-score, and AUC"
   ]
  },
  {
   "cell_type": "code",
   "execution_count": 21,
   "metadata": {
    "execution": {
     "iopub.execute_input": "2021-12-10T00:07:08.589124Z",
     "iopub.status.busy": "2021-12-10T00:07:08.588826Z",
     "iopub.status.idle": "2021-12-10T00:07:08.600288Z",
     "shell.execute_reply": "2021-12-10T00:07:08.599394Z",
     "shell.execute_reply.started": "2021-12-10T00:07:08.589091Z"
    }
   },
   "outputs": [],
   "source": [
    "# Confusion Matrix \n",
    "# Visualize the results of the model in the form of a confusion matrix using matplotlib and seaborn.\n",
    "def confusion_matrix_plot(y_eval, y_pred):\n",
    "    cnf_matrix = metrics.confusion_matrix(y_eval, y_pred)\n",
    "    sensitivity = cnf_matrix[0,0]/(cnf_matrix[0,0]+cnf_matrix[0,1])\n",
    "    print('Sensitivity : ', sensitivity)\n",
    "    specificity = cnf_matrix[1,1]/(cnf_matrix[1,0]+cnf_matrix[1,1])\n",
    "    print('Specificity : ', specificity)\n",
    "    class_names=[0,1] # name  of classes\n",
    "    fig, ax = plt.subplots()\n",
    "    tick_marks = np.arange(len(class_names))\n",
    "    plt.xticks(tick_marks, class_names)\n",
    "    plt.yticks(tick_marks, class_names)\n",
    "    # create heatmap\n",
    "    sns.heatmap(pd.DataFrame(cnf_matrix), annot=True, cmap=\"YlGnBu\" ,fmt='g')\n",
    "    ax.xaxis.set_label_position(\"top\")\n",
    "    plt.tight_layout()\n",
    "    plt.title('Confusion matrix', y=1.1)\n",
    "    plt.ylabel('Actual label')\n",
    "    plt.xlabel('Predicted label')\n",
    "    plt.show()"
   ]
  },
  {
   "cell_type": "code",
   "execution_count": 22,
   "metadata": {
    "execution": {
     "iopub.execute_input": "2021-12-10T00:07:08.602660Z",
     "iopub.status.busy": "2021-12-10T00:07:08.601795Z",
     "iopub.status.idle": "2021-12-10T00:07:08.609302Z",
     "shell.execute_reply": "2021-12-10T00:07:08.608372Z",
     "shell.execute_reply.started": "2021-12-10T00:07:08.602615Z"
    }
   },
   "outputs": [],
   "source": [
    "# Confusion Matrix Evaluation Metrics\n",
    "# Evaluate the model using model evaluation metrics such as accuracy, precision,recall and F1_score.\n",
    "def evaluation_metrics(y_eval, y_pred):\n",
    "    print(\"Accuracy:\",metrics.accuracy_score(y_eval, y_pred))\n",
    "    print(\"Precision:\",metrics.precision_score(y_eval, y_pred))\n",
    "    print(\"Recall:\",metrics.recall_score(y_eval, y_pred))\n",
    "    print(\"F1_score:\",metrics.f1_score(y_eval, y_pred))"
   ]
  },
  {
   "cell_type": "code",
   "execution_count": 23,
   "metadata": {
    "execution": {
     "iopub.execute_input": "2021-12-10T00:07:08.610601Z",
     "iopub.status.busy": "2021-12-10T00:07:08.610370Z",
     "iopub.status.idle": "2021-12-10T00:07:08.620134Z",
     "shell.execute_reply": "2021-12-10T00:07:08.619516Z",
     "shell.execute_reply.started": "2021-12-10T00:07:08.610573Z"
    }
   },
   "outputs": [],
   "source": [
    "# ROC Curve\n",
    "# Receiver Operating Characteristic(ROC) curve is a plot of the true positive rate against the false positive rate. \n",
    "# It shows the tradeoff between sensitivity and specificity.\n",
    "def roc_curve_plot(y_pred_proba, y_eval):\n",
    "    fpr, tpr, _ = metrics.roc_curve(y_eval,  y_pred_proba)\n",
    "    auc = metrics.roc_auc_score(y_eval, y_pred_proba)\n",
    "    plt.plot(fpr,tpr,label=\"data 1, auc=\"+str(auc))\n",
    "    plt.legend(loc=4)\n",
    "    plt.show()"
   ]
  },
  {
   "cell_type": "code",
   "execution_count": 24,
   "metadata": {
    "execution": {
     "iopub.execute_input": "2021-12-10T00:07:08.624895Z",
     "iopub.status.busy": "2021-12-10T00:07:08.624271Z",
     "iopub.status.idle": "2021-12-10T00:07:08.661692Z",
     "shell.execute_reply": "2021-12-10T00:07:08.660878Z",
     "shell.execute_reply.started": "2021-12-10T00:07:08.624861Z"
    }
   },
   "outputs": [
    {
     "name": "stdout",
     "output_type": "stream",
     "text": [
      "LOGISTIC REGRESSION\n",
      "Accuracy: 0.7829495345418912\n",
      "Precision: 0.6408668730650154\n",
      "Recall: 0.38764044943820225\n",
      "F1_score: 0.4830805134189031\n",
      "--------------------------------\n",
      "DECISION TREE BEST\n",
      "Accuracy: 0.7569818716315532\n",
      "Precision: 0.6\n",
      "Recall: 0.21348314606741572\n",
      "F1_score: 0.3149171270718232\n",
      "--------------------------------\n",
      "XGBOOST\n",
      "Accuracy: 0.7966682998530132\n",
      "Precision: 0.663013698630137\n",
      "Recall: 0.45318352059925093\n",
      "F1_score: 0.5383759733036707\n",
      "--------------------------------\n",
      "RANDOM FOREST\n",
      "Accuracy: 0.7814796668299853\n",
      "Precision: 0.6235955056179775\n",
      "Recall: 0.4157303370786517\n",
      "F1_score: 0.49887640449438203\n"
     ]
    }
   ],
   "source": [
    "print('LOGISTIC REGRESSION')\n",
    "evaluation_metrics(y_eval, y_pred_logreg)\n",
    "print('--------------------------------')\n",
    "print('DECISION TREE BEST')\n",
    "evaluation_metrics(y_eval, y_pred_clf_best)\n",
    "print('--------------------------------')\n",
    "print('XGBOOST')\n",
    "evaluation_metrics(y_eval, y_pred_xgb_best)\n",
    "print('--------------------------------')\n",
    "print('RANDOM FOREST')\n",
    "evaluation_metrics(y_eval, y_pred_rfc_best)"
   ]
  },
  {
   "cell_type": "code",
   "execution_count": 25,
   "metadata": {
    "execution": {
     "iopub.execute_input": "2021-12-10T00:07:08.662914Z",
     "iopub.status.busy": "2021-12-10T00:07:08.662707Z",
     "iopub.status.idle": "2021-12-10T00:07:09.718146Z",
     "shell.execute_reply": "2021-12-10T00:07:09.717411Z",
     "shell.execute_reply.started": "2021-12-10T00:07:08.662888Z"
    }
   },
   "outputs": [
    {
     "name": "stdout",
     "output_type": "stream",
     "text": [
      "LOGISTIC REGRESSION\n",
      "Sensitivity :  0.9230258792302588\n",
      "Specificity :  0.38764044943820225\n"
     ]
    },
    {
     "data": {
      "image/png": "[encoded data removed]",
      "text/plain": [
       "<Figure size 432x288 with 2 Axes>"
      ]
     },
     "metadata": {
      "needs_background": "light"
     },
     "output_type": "display_data"
    },
    {
     "name": "stdout",
     "output_type": "stream",
     "text": [
      "DECISION TREE\n",
      "Sensitivity :  0.9495686794956868\n",
      "Specificity :  0.21348314606741572\n"
     ]
    },
    {
     "data": {
      "image/png": "[encoded data removed]",
      "text/plain": [
       "<Figure size 432x288 with 2 Axes>"
      ]
     },
     "metadata": {
      "needs_background": "light"
     },
     "output_type": "display_data"
    },
    {
     "name": "stdout",
     "output_type": "stream",
     "text": [
      "XGBOOST\n",
      "Sensitivity :  0.9183808891838089\n",
      "Specificity :  0.45318352059925093\n"
     ]
    },
    {
     "data": {
      "image/png": "[encoded data removed]",
      "text/plain": [
       "<Figure size 432x288 with 2 Axes>"
      ]
     },
     "metadata": {
      "needs_background": "light"
     },
     "output_type": "display_data"
    },
    {
     "name": "stdout",
     "output_type": "stream",
     "text": [
      "RANDOM FOREST\n",
      "Sensitivity :  0.9110816191108162\n",
      "Specificity :  0.4157303370786517\n"
     ]
    },
    {
     "data": {
      "image/png": "[encoded data removed]",
      "text/plain": [
       "<Figure size 432x288 with 2 Axes>"
      ]
     },
     "metadata": {
      "needs_background": "light"
     },
     "output_type": "display_data"
    }
   ],
   "source": [
    "print('LOGISTIC REGRESSION')\n",
    "confusion_matrix_plot(y_eval, y_pred_logreg)\n",
    "print('DECISION TREE')\n",
    "confusion_matrix_plot(y_eval, y_pred_clf_best)\n",
    "print('XGBOOST')\n",
    "confusion_matrix_plot(y_eval, y_pred_xgb_best)\n",
    "print('RANDOM FOREST')\n",
    "confusion_matrix_plot(y_eval, y_pred_rfc_best)"
   ]
  },
  {
   "cell_type": "code",
   "execution_count": 26,
   "metadata": {
    "execution": {
     "iopub.execute_input": "2021-12-10T00:07:09.719686Z",
     "iopub.status.busy": "2021-12-10T00:07:09.719269Z",
     "iopub.status.idle": "2021-12-10T00:07:10.498006Z",
     "shell.execute_reply": "2021-12-10T00:07:10.496669Z",
     "shell.execute_reply.started": "2021-12-10T00:07:09.719651Z"
    }
   },
   "outputs": [
    {
     "name": "stdout",
     "output_type": "stream",
     "text": [
      "LOGISTIC REGRESSION\n"
     ]
    },
    {
     "data": {
      "image/png": "[encoded data removed]",
      "text/plain": [
       "<Figure size 432x288 with 1 Axes>"
      ]
     },
     "metadata": {
      "needs_background": "light"
     },
     "output_type": "display_data"
    },
    {
     "name": "stdout",
     "output_type": "stream",
     "text": [
      "DECISION TREE\n"
     ]
    },
    {
     "data": {
      "image/png": "[encoded data removed]",
      "text/plain": [
       "<Figure size 432x288 with 1 Axes>"
      ]
     },
     "metadata": {
      "needs_background": "light"
     },
     "output_type": "display_data"
    },
    {
     "name": "stdout",
     "output_type": "stream",
     "text": [
      "XGBOOST\n"
     ]
    },
    {
     "data": {
      "image/png": "[encoded data removed]",
      "text/plain": [
       "<Figure size 432x288 with 1 Axes>"
      ]
     },
     "metadata": {
      "needs_background": "light"
     },
     "output_type": "display_data"
    },
    {
     "name": "stdout",
     "output_type": "stream",
     "text": [
      "RANDOM FOREST\n"
     ]
    },
    {
     "data": {
      "image/png": "[encoded data removed]",
      "text/plain": [
       "<Figure size 432x288 with 1 Axes>"
      ]
     },
     "metadata": {
      "needs_background": "light"
     },
     "output_type": "display_data"
    }
   ],
   "source": [
    "print('LOGISTIC REGRESSION')\n",
    "y_pred_logreg_proba = logreg.predict_proba(X_eval)[::,1]\n",
    "roc_curve_plot(y_pred_logreg_proba, y_eval)\n",
    "print('DECISION TREE')\n",
    "y_pred_clf_best_proba = clf_best.predict_proba(X_eval)[::,1]\n",
    "roc_curve_plot(y_pred_clf_best_proba, y_eval)\n",
    "print('XGBOOST')\n",
    "y_pred_xgb_best_proba = xgb_best.predict_proba(X_eval)[::,1]\n",
    "roc_curve_plot(y_pred_xgb_best_proba, y_eval)\n",
    "print('RANDOM FOREST')\n",
    "y_pred_rfc_best_proba = rfc_best.predict_proba(X_eval)[::,1]\n",
    "roc_curve_plot(y_pred_rfc_best_proba, y_eval)"
   ]
  },
  {
   "cell_type": "markdown",
   "metadata": {},
   "source": [
    "#### Every model  was evaluated according to a confusion matrix, precision, recall, F1-score, and AUC. Then, we compared all classifier models and we selected the XGBoost model as the best classifier.\n",
    "#### The range of accuracy values for all ML models was between 75.69% and 79.47%. XGBoost was the best model, with a high accuracy of 79.47% . The results showed that XGBoost was most likely to solve claim prediction problems correctly.\n",
    "#### XGBoost had the highest Specificity, which means that 45% of the true negative samples were correctly classified. The Sensitivity for the XGBoost model explains that 97.16% of the samples detected as positive were actually positive. It has also the highest F1 score 53%.\n",
    "#### Based on the AUC comparison of the classifiers, the XGBoost score was 0.818, which was the best."
   ]
  },
  {
   "cell_type": "markdown",
   "metadata": {},
   "source": [
    "### 6- Prediction on the test set"
   ]
  },
  {
   "cell_type": "code",
   "execution_count": 27,
   "metadata": {
    "execution": {
     "iopub.execute_input": "2021-12-10T00:07:10.499530Z",
     "iopub.status.busy": "2021-12-10T00:07:10.499303Z",
     "iopub.status.idle": "2021-12-10T00:07:10.504276Z",
     "shell.execute_reply": "2021-12-10T00:07:10.503273Z",
     "shell.execute_reply.started": "2021-12-10T00:07:10.499504Z"
    }
   },
   "outputs": [],
   "source": [
    "def save_predictions(model, X_test) :\n",
    "    y_pred_xgb_best_test = model.predict(X_test)\n",
    "    predictions = pd.DataFrame(y_pred_xgb_best_test)\n",
    "    test_df  = pd.read_csv('test_auto.csv')\n",
    "    predictions.index = test_df.INDEX # for comparison\n",
    "    predictions.columns = [\"TARGET_FLAG\"]\n",
    "    predictions.to_csv(\"prediction_results.csv\")"
   ]
  },
  {
   "cell_type": "code",
   "execution_count": 28,
   "metadata": {
    "execution": {
     "iopub.execute_input": "2021-12-10T00:13:41.630254Z",
     "iopub.status.busy": "2021-12-10T00:13:41.629951Z",
     "iopub.status.idle": "2021-12-10T00:13:41.675078Z",
     "shell.execute_reply": "2021-12-10T00:13:41.674287Z",
     "shell.execute_reply.started": "2021-12-10T00:13:41.630222Z"
    }
   },
   "outputs": [],
   "source": [
    "save_predictions(xgb_best, X_test)"
   ]
  }
 ],
 "metadata": {
  "kernelspec": {
   "display_name": "Python 3",
   "language": "python",
   "name": "python3"
  },
  "language_info": {
   "codemirror_mode": {
    "name": "ipython",
    "version": 3
   },
   "file_extension": ".py",
   "mimetype": "text/x-python",
   "name": "python",
   "nbconvert_exporter": "python",
   "pygments_lexer": "ipython3",
   "version": "3.6.9"
  }
 },
 "nbformat": 4,
 "nbformat_minor": 4
}
